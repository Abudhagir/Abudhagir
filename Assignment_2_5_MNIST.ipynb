{
  "nbformat": 4,
  "nbformat_minor": 0,
  "metadata": {
    "colab": {
      "provenance": [],
      "authorship_tag": "ABX9TyMqskJQXwXte8N7mxrD7aFB",
      "include_colab_link": true
    },
    "kernelspec": {
      "name": "python3",
      "display_name": "Python 3"
    },
    "language_info": {
      "name": "python"
    },
    "widgets": {
      "application/vnd.jupyter.widget-state+json": {
        "0a7ad4d5bd2e4fc48ef6ed63095d207a": {
          "model_module": "@jupyter-widgets/controls",
          "model_name": "HBoxModel",
          "model_module_version": "1.5.0",
          "state": {
            "_dom_classes": [],
            "_model_module": "@jupyter-widgets/controls",
            "_model_module_version": "1.5.0",
            "_model_name": "HBoxModel",
            "_view_count": null,
            "_view_module": "@jupyter-widgets/controls",
            "_view_module_version": "1.5.0",
            "_view_name": "HBoxView",
            "box_style": "",
            "children": [
              "IPY_MODEL_836190739d354647a0fa818ef59dc9ea",
              "IPY_MODEL_2e1201e17e0d4b8b89281d18d050fb70",
              "IPY_MODEL_761f118514514fcda01f066d6a7ac472"
            ],
            "layout": "IPY_MODEL_41f071719c074cac825e46e272b29b69"
          }
        },
        "836190739d354647a0fa818ef59dc9ea": {
          "model_module": "@jupyter-widgets/controls",
          "model_name": "HTMLModel",
          "model_module_version": "1.5.0",
          "state": {
            "_dom_classes": [],
            "_model_module": "@jupyter-widgets/controls",
            "_model_module_version": "1.5.0",
            "_model_name": "HTMLModel",
            "_view_count": null,
            "_view_module": "@jupyter-widgets/controls",
            "_view_module_version": "1.5.0",
            "_view_name": "HTMLView",
            "description": "",
            "description_tooltip": null,
            "layout": "IPY_MODEL_7d0a29694a57415793c608285195bc27",
            "placeholder": "​",
            "style": "IPY_MODEL_2809fadd21b449dea2226e838c32f743",
            "value": "100%"
          }
        },
        "2e1201e17e0d4b8b89281d18d050fb70": {
          "model_module": "@jupyter-widgets/controls",
          "model_name": "FloatProgressModel",
          "model_module_version": "1.5.0",
          "state": {
            "_dom_classes": [],
            "_model_module": "@jupyter-widgets/controls",
            "_model_module_version": "1.5.0",
            "_model_name": "FloatProgressModel",
            "_view_count": null,
            "_view_module": "@jupyter-widgets/controls",
            "_view_module_version": "1.5.0",
            "_view_name": "ProgressView",
            "bar_style": "success",
            "description": "",
            "description_tooltip": null,
            "layout": "IPY_MODEL_94d6fcda321c4d0995eac9f98d3050ab",
            "max": 9912422,
            "min": 0,
            "orientation": "horizontal",
            "style": "IPY_MODEL_0354099cdea24b92b6288d098c3e1407",
            "value": 9912422
          }
        },
        "761f118514514fcda01f066d6a7ac472": {
          "model_module": "@jupyter-widgets/controls",
          "model_name": "HTMLModel",
          "model_module_version": "1.5.0",
          "state": {
            "_dom_classes": [],
            "_model_module": "@jupyter-widgets/controls",
            "_model_module_version": "1.5.0",
            "_model_name": "HTMLModel",
            "_view_count": null,
            "_view_module": "@jupyter-widgets/controls",
            "_view_module_version": "1.5.0",
            "_view_name": "HTMLView",
            "description": "",
            "description_tooltip": null,
            "layout": "IPY_MODEL_2406d9419a4242428f0b201322ebc967",
            "placeholder": "​",
            "style": "IPY_MODEL_7eb3fa15f62f4d21ad775a15469b9398",
            "value": " 9912422/9912422 [00:00&lt;00:00, 16231929.33it/s]"
          }
        },
        "41f071719c074cac825e46e272b29b69": {
          "model_module": "@jupyter-widgets/base",
          "model_name": "LayoutModel",
          "model_module_version": "1.2.0",
          "state": {
            "_model_module": "@jupyter-widgets/base",
            "_model_module_version": "1.2.0",
            "_model_name": "LayoutModel",
            "_view_count": null,
            "_view_module": "@jupyter-widgets/base",
            "_view_module_version": "1.2.0",
            "_view_name": "LayoutView",
            "align_content": null,
            "align_items": null,
            "align_self": null,
            "border": null,
            "bottom": null,
            "display": null,
            "flex": null,
            "flex_flow": null,
            "grid_area": null,
            "grid_auto_columns": null,
            "grid_auto_flow": null,
            "grid_auto_rows": null,
            "grid_column": null,
            "grid_gap": null,
            "grid_row": null,
            "grid_template_areas": null,
            "grid_template_columns": null,
            "grid_template_rows": null,
            "height": null,
            "justify_content": null,
            "justify_items": null,
            "left": null,
            "margin": null,
            "max_height": null,
            "max_width": null,
            "min_height": null,
            "min_width": null,
            "object_fit": null,
            "object_position": null,
            "order": null,
            "overflow": null,
            "overflow_x": null,
            "overflow_y": null,
            "padding": null,
            "right": null,
            "top": null,
            "visibility": null,
            "width": null
          }
        },
        "7d0a29694a57415793c608285195bc27": {
          "model_module": "@jupyter-widgets/base",
          "model_name": "LayoutModel",
          "model_module_version": "1.2.0",
          "state": {
            "_model_module": "@jupyter-widgets/base",
            "_model_module_version": "1.2.0",
            "_model_name": "LayoutModel",
            "_view_count": null,
            "_view_module": "@jupyter-widgets/base",
            "_view_module_version": "1.2.0",
            "_view_name": "LayoutView",
            "align_content": null,
            "align_items": null,
            "align_self": null,
            "border": null,
            "bottom": null,
            "display": null,
            "flex": null,
            "flex_flow": null,
            "grid_area": null,
            "grid_auto_columns": null,
            "grid_auto_flow": null,
            "grid_auto_rows": null,
            "grid_column": null,
            "grid_gap": null,
            "grid_row": null,
            "grid_template_areas": null,
            "grid_template_columns": null,
            "grid_template_rows": null,
            "height": null,
            "justify_content": null,
            "justify_items": null,
            "left": null,
            "margin": null,
            "max_height": null,
            "max_width": null,
            "min_height": null,
            "min_width": null,
            "object_fit": null,
            "object_position": null,
            "order": null,
            "overflow": null,
            "overflow_x": null,
            "overflow_y": null,
            "padding": null,
            "right": null,
            "top": null,
            "visibility": null,
            "width": null
          }
        },
        "2809fadd21b449dea2226e838c32f743": {
          "model_module": "@jupyter-widgets/controls",
          "model_name": "DescriptionStyleModel",
          "model_module_version": "1.5.0",
          "state": {
            "_model_module": "@jupyter-widgets/controls",
            "_model_module_version": "1.5.0",
            "_model_name": "DescriptionStyleModel",
            "_view_count": null,
            "_view_module": "@jupyter-widgets/base",
            "_view_module_version": "1.2.0",
            "_view_name": "StyleView",
            "description_width": ""
          }
        },
        "94d6fcda321c4d0995eac9f98d3050ab": {
          "model_module": "@jupyter-widgets/base",
          "model_name": "LayoutModel",
          "model_module_version": "1.2.0",
          "state": {
            "_model_module": "@jupyter-widgets/base",
            "_model_module_version": "1.2.0",
            "_model_name": "LayoutModel",
            "_view_count": null,
            "_view_module": "@jupyter-widgets/base",
            "_view_module_version": "1.2.0",
            "_view_name": "LayoutView",
            "align_content": null,
            "align_items": null,
            "align_self": null,
            "border": null,
            "bottom": null,
            "display": null,
            "flex": null,
            "flex_flow": null,
            "grid_area": null,
            "grid_auto_columns": null,
            "grid_auto_flow": null,
            "grid_auto_rows": null,
            "grid_column": null,
            "grid_gap": null,
            "grid_row": null,
            "grid_template_areas": null,
            "grid_template_columns": null,
            "grid_template_rows": null,
            "height": null,
            "justify_content": null,
            "justify_items": null,
            "left": null,
            "margin": null,
            "max_height": null,
            "max_width": null,
            "min_height": null,
            "min_width": null,
            "object_fit": null,
            "object_position": null,
            "order": null,
            "overflow": null,
            "overflow_x": null,
            "overflow_y": null,
            "padding": null,
            "right": null,
            "top": null,
            "visibility": null,
            "width": null
          }
        },
        "0354099cdea24b92b6288d098c3e1407": {
          "model_module": "@jupyter-widgets/controls",
          "model_name": "ProgressStyleModel",
          "model_module_version": "1.5.0",
          "state": {
            "_model_module": "@jupyter-widgets/controls",
            "_model_module_version": "1.5.0",
            "_model_name": "ProgressStyleModel",
            "_view_count": null,
            "_view_module": "@jupyter-widgets/base",
            "_view_module_version": "1.2.0",
            "_view_name": "StyleView",
            "bar_color": null,
            "description_width": ""
          }
        },
        "2406d9419a4242428f0b201322ebc967": {
          "model_module": "@jupyter-widgets/base",
          "model_name": "LayoutModel",
          "model_module_version": "1.2.0",
          "state": {
            "_model_module": "@jupyter-widgets/base",
            "_model_module_version": "1.2.0",
            "_model_name": "LayoutModel",
            "_view_count": null,
            "_view_module": "@jupyter-widgets/base",
            "_view_module_version": "1.2.0",
            "_view_name": "LayoutView",
            "align_content": null,
            "align_items": null,
            "align_self": null,
            "border": null,
            "bottom": null,
            "display": null,
            "flex": null,
            "flex_flow": null,
            "grid_area": null,
            "grid_auto_columns": null,
            "grid_auto_flow": null,
            "grid_auto_rows": null,
            "grid_column": null,
            "grid_gap": null,
            "grid_row": null,
            "grid_template_areas": null,
            "grid_template_columns": null,
            "grid_template_rows": null,
            "height": null,
            "justify_content": null,
            "justify_items": null,
            "left": null,
            "margin": null,
            "max_height": null,
            "max_width": null,
            "min_height": null,
            "min_width": null,
            "object_fit": null,
            "object_position": null,
            "order": null,
            "overflow": null,
            "overflow_x": null,
            "overflow_y": null,
            "padding": null,
            "right": null,
            "top": null,
            "visibility": null,
            "width": null
          }
        },
        "7eb3fa15f62f4d21ad775a15469b9398": {
          "model_module": "@jupyter-widgets/controls",
          "model_name": "DescriptionStyleModel",
          "model_module_version": "1.5.0",
          "state": {
            "_model_module": "@jupyter-widgets/controls",
            "_model_module_version": "1.5.0",
            "_model_name": "DescriptionStyleModel",
            "_view_count": null,
            "_view_module": "@jupyter-widgets/base",
            "_view_module_version": "1.2.0",
            "_view_name": "StyleView",
            "description_width": ""
          }
        },
        "e58ce0c85bd94e40a7085b5d68fb8b72": {
          "model_module": "@jupyter-widgets/controls",
          "model_name": "HBoxModel",
          "model_module_version": "1.5.0",
          "state": {
            "_dom_classes": [],
            "_model_module": "@jupyter-widgets/controls",
            "_model_module_version": "1.5.0",
            "_model_name": "HBoxModel",
            "_view_count": null,
            "_view_module": "@jupyter-widgets/controls",
            "_view_module_version": "1.5.0",
            "_view_name": "HBoxView",
            "box_style": "",
            "children": [
              "IPY_MODEL_90d4fefea3ad4d45ac8bf679910e3b57",
              "IPY_MODEL_6cbfb1d66301449795cc72522c2ac279",
              "IPY_MODEL_626aac2023a545ae8d6133daccb66206"
            ],
            "layout": "IPY_MODEL_65a0d6ad46f24de98ce55bf50276888d"
          }
        },
        "90d4fefea3ad4d45ac8bf679910e3b57": {
          "model_module": "@jupyter-widgets/controls",
          "model_name": "HTMLModel",
          "model_module_version": "1.5.0",
          "state": {
            "_dom_classes": [],
            "_model_module": "@jupyter-widgets/controls",
            "_model_module_version": "1.5.0",
            "_model_name": "HTMLModel",
            "_view_count": null,
            "_view_module": "@jupyter-widgets/controls",
            "_view_module_version": "1.5.0",
            "_view_name": "HTMLView",
            "description": "",
            "description_tooltip": null,
            "layout": "IPY_MODEL_ed7ce3b2a77745dc86e4b3f8d5448d3d",
            "placeholder": "​",
            "style": "IPY_MODEL_fda7660e31f54e52aa2525b700f6352f",
            "value": "100%"
          }
        },
        "6cbfb1d66301449795cc72522c2ac279": {
          "model_module": "@jupyter-widgets/controls",
          "model_name": "FloatProgressModel",
          "model_module_version": "1.5.0",
          "state": {
            "_dom_classes": [],
            "_model_module": "@jupyter-widgets/controls",
            "_model_module_version": "1.5.0",
            "_model_name": "FloatProgressModel",
            "_view_count": null,
            "_view_module": "@jupyter-widgets/controls",
            "_view_module_version": "1.5.0",
            "_view_name": "ProgressView",
            "bar_style": "success",
            "description": "",
            "description_tooltip": null,
            "layout": "IPY_MODEL_7f106061bb884d9c8e25c32345168d9e",
            "max": 28881,
            "min": 0,
            "orientation": "horizontal",
            "style": "IPY_MODEL_c67849c285f1438299e82037cfc8ca3b",
            "value": 28881
          }
        },
        "626aac2023a545ae8d6133daccb66206": {
          "model_module": "@jupyter-widgets/controls",
          "model_name": "HTMLModel",
          "model_module_version": "1.5.0",
          "state": {
            "_dom_classes": [],
            "_model_module": "@jupyter-widgets/controls",
            "_model_module_version": "1.5.0",
            "_model_name": "HTMLModel",
            "_view_count": null,
            "_view_module": "@jupyter-widgets/controls",
            "_view_module_version": "1.5.0",
            "_view_name": "HTMLView",
            "description": "",
            "description_tooltip": null,
            "layout": "IPY_MODEL_b263cbef9c044b128e8dd20dd537583b",
            "placeholder": "​",
            "style": "IPY_MODEL_61f0d5535aba4f57bc07f300d7c640a0",
            "value": " 28881/28881 [00:00&lt;00:00, 377476.77it/s]"
          }
        },
        "65a0d6ad46f24de98ce55bf50276888d": {
          "model_module": "@jupyter-widgets/base",
          "model_name": "LayoutModel",
          "model_module_version": "1.2.0",
          "state": {
            "_model_module": "@jupyter-widgets/base",
            "_model_module_version": "1.2.0",
            "_model_name": "LayoutModel",
            "_view_count": null,
            "_view_module": "@jupyter-widgets/base",
            "_view_module_version": "1.2.0",
            "_view_name": "LayoutView",
            "align_content": null,
            "align_items": null,
            "align_self": null,
            "border": null,
            "bottom": null,
            "display": null,
            "flex": null,
            "flex_flow": null,
            "grid_area": null,
            "grid_auto_columns": null,
            "grid_auto_flow": null,
            "grid_auto_rows": null,
            "grid_column": null,
            "grid_gap": null,
            "grid_row": null,
            "grid_template_areas": null,
            "grid_template_columns": null,
            "grid_template_rows": null,
            "height": null,
            "justify_content": null,
            "justify_items": null,
            "left": null,
            "margin": null,
            "max_height": null,
            "max_width": null,
            "min_height": null,
            "min_width": null,
            "object_fit": null,
            "object_position": null,
            "order": null,
            "overflow": null,
            "overflow_x": null,
            "overflow_y": null,
            "padding": null,
            "right": null,
            "top": null,
            "visibility": null,
            "width": null
          }
        },
        "ed7ce3b2a77745dc86e4b3f8d5448d3d": {
          "model_module": "@jupyter-widgets/base",
          "model_name": "LayoutModel",
          "model_module_version": "1.2.0",
          "state": {
            "_model_module": "@jupyter-widgets/base",
            "_model_module_version": "1.2.0",
            "_model_name": "LayoutModel",
            "_view_count": null,
            "_view_module": "@jupyter-widgets/base",
            "_view_module_version": "1.2.0",
            "_view_name": "LayoutView",
            "align_content": null,
            "align_items": null,
            "align_self": null,
            "border": null,
            "bottom": null,
            "display": null,
            "flex": null,
            "flex_flow": null,
            "grid_area": null,
            "grid_auto_columns": null,
            "grid_auto_flow": null,
            "grid_auto_rows": null,
            "grid_column": null,
            "grid_gap": null,
            "grid_row": null,
            "grid_template_areas": null,
            "grid_template_columns": null,
            "grid_template_rows": null,
            "height": null,
            "justify_content": null,
            "justify_items": null,
            "left": null,
            "margin": null,
            "max_height": null,
            "max_width": null,
            "min_height": null,
            "min_width": null,
            "object_fit": null,
            "object_position": null,
            "order": null,
            "overflow": null,
            "overflow_x": null,
            "overflow_y": null,
            "padding": null,
            "right": null,
            "top": null,
            "visibility": null,
            "width": null
          }
        },
        "fda7660e31f54e52aa2525b700f6352f": {
          "model_module": "@jupyter-widgets/controls",
          "model_name": "DescriptionStyleModel",
          "model_module_version": "1.5.0",
          "state": {
            "_model_module": "@jupyter-widgets/controls",
            "_model_module_version": "1.5.0",
            "_model_name": "DescriptionStyleModel",
            "_view_count": null,
            "_view_module": "@jupyter-widgets/base",
            "_view_module_version": "1.2.0",
            "_view_name": "StyleView",
            "description_width": ""
          }
        },
        "7f106061bb884d9c8e25c32345168d9e": {
          "model_module": "@jupyter-widgets/base",
          "model_name": "LayoutModel",
          "model_module_version": "1.2.0",
          "state": {
            "_model_module": "@jupyter-widgets/base",
            "_model_module_version": "1.2.0",
            "_model_name": "LayoutModel",
            "_view_count": null,
            "_view_module": "@jupyter-widgets/base",
            "_view_module_version": "1.2.0",
            "_view_name": "LayoutView",
            "align_content": null,
            "align_items": null,
            "align_self": null,
            "border": null,
            "bottom": null,
            "display": null,
            "flex": null,
            "flex_flow": null,
            "grid_area": null,
            "grid_auto_columns": null,
            "grid_auto_flow": null,
            "grid_auto_rows": null,
            "grid_column": null,
            "grid_gap": null,
            "grid_row": null,
            "grid_template_areas": null,
            "grid_template_columns": null,
            "grid_template_rows": null,
            "height": null,
            "justify_content": null,
            "justify_items": null,
            "left": null,
            "margin": null,
            "max_height": null,
            "max_width": null,
            "min_height": null,
            "min_width": null,
            "object_fit": null,
            "object_position": null,
            "order": null,
            "overflow": null,
            "overflow_x": null,
            "overflow_y": null,
            "padding": null,
            "right": null,
            "top": null,
            "visibility": null,
            "width": null
          }
        },
        "c67849c285f1438299e82037cfc8ca3b": {
          "model_module": "@jupyter-widgets/controls",
          "model_name": "ProgressStyleModel",
          "model_module_version": "1.5.0",
          "state": {
            "_model_module": "@jupyter-widgets/controls",
            "_model_module_version": "1.5.0",
            "_model_name": "ProgressStyleModel",
            "_view_count": null,
            "_view_module": "@jupyter-widgets/base",
            "_view_module_version": "1.2.0",
            "_view_name": "StyleView",
            "bar_color": null,
            "description_width": ""
          }
        },
        "b263cbef9c044b128e8dd20dd537583b": {
          "model_module": "@jupyter-widgets/base",
          "model_name": "LayoutModel",
          "model_module_version": "1.2.0",
          "state": {
            "_model_module": "@jupyter-widgets/base",
            "_model_module_version": "1.2.0",
            "_model_name": "LayoutModel",
            "_view_count": null,
            "_view_module": "@jupyter-widgets/base",
            "_view_module_version": "1.2.0",
            "_view_name": "LayoutView",
            "align_content": null,
            "align_items": null,
            "align_self": null,
            "border": null,
            "bottom": null,
            "display": null,
            "flex": null,
            "flex_flow": null,
            "grid_area": null,
            "grid_auto_columns": null,
            "grid_auto_flow": null,
            "grid_auto_rows": null,
            "grid_column": null,
            "grid_gap": null,
            "grid_row": null,
            "grid_template_areas": null,
            "grid_template_columns": null,
            "grid_template_rows": null,
            "height": null,
            "justify_content": null,
            "justify_items": null,
            "left": null,
            "margin": null,
            "max_height": null,
            "max_width": null,
            "min_height": null,
            "min_width": null,
            "object_fit": null,
            "object_position": null,
            "order": null,
            "overflow": null,
            "overflow_x": null,
            "overflow_y": null,
            "padding": null,
            "right": null,
            "top": null,
            "visibility": null,
            "width": null
          }
        },
        "61f0d5535aba4f57bc07f300d7c640a0": {
          "model_module": "@jupyter-widgets/controls",
          "model_name": "DescriptionStyleModel",
          "model_module_version": "1.5.0",
          "state": {
            "_model_module": "@jupyter-widgets/controls",
            "_model_module_version": "1.5.0",
            "_model_name": "DescriptionStyleModel",
            "_view_count": null,
            "_view_module": "@jupyter-widgets/base",
            "_view_module_version": "1.2.0",
            "_view_name": "StyleView",
            "description_width": ""
          }
        },
        "fd618b02f01f45a2aabe7a3c363fa3cd": {
          "model_module": "@jupyter-widgets/controls",
          "model_name": "HBoxModel",
          "model_module_version": "1.5.0",
          "state": {
            "_dom_classes": [],
            "_model_module": "@jupyter-widgets/controls",
            "_model_module_version": "1.5.0",
            "_model_name": "HBoxModel",
            "_view_count": null,
            "_view_module": "@jupyter-widgets/controls",
            "_view_module_version": "1.5.0",
            "_view_name": "HBoxView",
            "box_style": "",
            "children": [
              "IPY_MODEL_9ff349648c1d4d3f99e171c4cbad8047",
              "IPY_MODEL_0ff7706a471e4a49942da3a5a470ecb8",
              "IPY_MODEL_5bd25ad1b2e64dc98de27cc919a546d1"
            ],
            "layout": "IPY_MODEL_3a49b85b5b7f45e582a46244075bd9a1"
          }
        },
        "9ff349648c1d4d3f99e171c4cbad8047": {
          "model_module": "@jupyter-widgets/controls",
          "model_name": "HTMLModel",
          "model_module_version": "1.5.0",
          "state": {
            "_dom_classes": [],
            "_model_module": "@jupyter-widgets/controls",
            "_model_module_version": "1.5.0",
            "_model_name": "HTMLModel",
            "_view_count": null,
            "_view_module": "@jupyter-widgets/controls",
            "_view_module_version": "1.5.0",
            "_view_name": "HTMLView",
            "description": "",
            "description_tooltip": null,
            "layout": "IPY_MODEL_a69f2fb4c6be4409bf9ec9b34c1157e1",
            "placeholder": "​",
            "style": "IPY_MODEL_a4c0b9bd2d2f48198e4a59ee08dc1359",
            "value": "100%"
          }
        },
        "0ff7706a471e4a49942da3a5a470ecb8": {
          "model_module": "@jupyter-widgets/controls",
          "model_name": "FloatProgressModel",
          "model_module_version": "1.5.0",
          "state": {
            "_dom_classes": [],
            "_model_module": "@jupyter-widgets/controls",
            "_model_module_version": "1.5.0",
            "_model_name": "FloatProgressModel",
            "_view_count": null,
            "_view_module": "@jupyter-widgets/controls",
            "_view_module_version": "1.5.0",
            "_view_name": "ProgressView",
            "bar_style": "success",
            "description": "",
            "description_tooltip": null,
            "layout": "IPY_MODEL_ab81016920cc48daa77675cdf27441ce",
            "max": 1648877,
            "min": 0,
            "orientation": "horizontal",
            "style": "IPY_MODEL_d36c7fe9f674454ca576a44f9fe510b8",
            "value": 1648877
          }
        },
        "5bd25ad1b2e64dc98de27cc919a546d1": {
          "model_module": "@jupyter-widgets/controls",
          "model_name": "HTMLModel",
          "model_module_version": "1.5.0",
          "state": {
            "_dom_classes": [],
            "_model_module": "@jupyter-widgets/controls",
            "_model_module_version": "1.5.0",
            "_model_name": "HTMLModel",
            "_view_count": null,
            "_view_module": "@jupyter-widgets/controls",
            "_view_module_version": "1.5.0",
            "_view_name": "HTMLView",
            "description": "",
            "description_tooltip": null,
            "layout": "IPY_MODEL_c9b1a7f176794c2987b98b80cbde728d",
            "placeholder": "​",
            "style": "IPY_MODEL_b450e8cd0b1a4e17b9a4bf249eed6787",
            "value": " 1648877/1648877 [00:00&lt;00:00, 4158320.27it/s]"
          }
        },
        "3a49b85b5b7f45e582a46244075bd9a1": {
          "model_module": "@jupyter-widgets/base",
          "model_name": "LayoutModel",
          "model_module_version": "1.2.0",
          "state": {
            "_model_module": "@jupyter-widgets/base",
            "_model_module_version": "1.2.0",
            "_model_name": "LayoutModel",
            "_view_count": null,
            "_view_module": "@jupyter-widgets/base",
            "_view_module_version": "1.2.0",
            "_view_name": "LayoutView",
            "align_content": null,
            "align_items": null,
            "align_self": null,
            "border": null,
            "bottom": null,
            "display": null,
            "flex": null,
            "flex_flow": null,
            "grid_area": null,
            "grid_auto_columns": null,
            "grid_auto_flow": null,
            "grid_auto_rows": null,
            "grid_column": null,
            "grid_gap": null,
            "grid_row": null,
            "grid_template_areas": null,
            "grid_template_columns": null,
            "grid_template_rows": null,
            "height": null,
            "justify_content": null,
            "justify_items": null,
            "left": null,
            "margin": null,
            "max_height": null,
            "max_width": null,
            "min_height": null,
            "min_width": null,
            "object_fit": null,
            "object_position": null,
            "order": null,
            "overflow": null,
            "overflow_x": null,
            "overflow_y": null,
            "padding": null,
            "right": null,
            "top": null,
            "visibility": null,
            "width": null
          }
        },
        "a69f2fb4c6be4409bf9ec9b34c1157e1": {
          "model_module": "@jupyter-widgets/base",
          "model_name": "LayoutModel",
          "model_module_version": "1.2.0",
          "state": {
            "_model_module": "@jupyter-widgets/base",
            "_model_module_version": "1.2.0",
            "_model_name": "LayoutModel",
            "_view_count": null,
            "_view_module": "@jupyter-widgets/base",
            "_view_module_version": "1.2.0",
            "_view_name": "LayoutView",
            "align_content": null,
            "align_items": null,
            "align_self": null,
            "border": null,
            "bottom": null,
            "display": null,
            "flex": null,
            "flex_flow": null,
            "grid_area": null,
            "grid_auto_columns": null,
            "grid_auto_flow": null,
            "grid_auto_rows": null,
            "grid_column": null,
            "grid_gap": null,
            "grid_row": null,
            "grid_template_areas": null,
            "grid_template_columns": null,
            "grid_template_rows": null,
            "height": null,
            "justify_content": null,
            "justify_items": null,
            "left": null,
            "margin": null,
            "max_height": null,
            "max_width": null,
            "min_height": null,
            "min_width": null,
            "object_fit": null,
            "object_position": null,
            "order": null,
            "overflow": null,
            "overflow_x": null,
            "overflow_y": null,
            "padding": null,
            "right": null,
            "top": null,
            "visibility": null,
            "width": null
          }
        },
        "a4c0b9bd2d2f48198e4a59ee08dc1359": {
          "model_module": "@jupyter-widgets/controls",
          "model_name": "DescriptionStyleModel",
          "model_module_version": "1.5.0",
          "state": {
            "_model_module": "@jupyter-widgets/controls",
            "_model_module_version": "1.5.0",
            "_model_name": "DescriptionStyleModel",
            "_view_count": null,
            "_view_module": "@jupyter-widgets/base",
            "_view_module_version": "1.2.0",
            "_view_name": "StyleView",
            "description_width": ""
          }
        },
        "ab81016920cc48daa77675cdf27441ce": {
          "model_module": "@jupyter-widgets/base",
          "model_name": "LayoutModel",
          "model_module_version": "1.2.0",
          "state": {
            "_model_module": "@jupyter-widgets/base",
            "_model_module_version": "1.2.0",
            "_model_name": "LayoutModel",
            "_view_count": null,
            "_view_module": "@jupyter-widgets/base",
            "_view_module_version": "1.2.0",
            "_view_name": "LayoutView",
            "align_content": null,
            "align_items": null,
            "align_self": null,
            "border": null,
            "bottom": null,
            "display": null,
            "flex": null,
            "flex_flow": null,
            "grid_area": null,
            "grid_auto_columns": null,
            "grid_auto_flow": null,
            "grid_auto_rows": null,
            "grid_column": null,
            "grid_gap": null,
            "grid_row": null,
            "grid_template_areas": null,
            "grid_template_columns": null,
            "grid_template_rows": null,
            "height": null,
            "justify_content": null,
            "justify_items": null,
            "left": null,
            "margin": null,
            "max_height": null,
            "max_width": null,
            "min_height": null,
            "min_width": null,
            "object_fit": null,
            "object_position": null,
            "order": null,
            "overflow": null,
            "overflow_x": null,
            "overflow_y": null,
            "padding": null,
            "right": null,
            "top": null,
            "visibility": null,
            "width": null
          }
        },
        "d36c7fe9f674454ca576a44f9fe510b8": {
          "model_module": "@jupyter-widgets/controls",
          "model_name": "ProgressStyleModel",
          "model_module_version": "1.5.0",
          "state": {
            "_model_module": "@jupyter-widgets/controls",
            "_model_module_version": "1.5.0",
            "_model_name": "ProgressStyleModel",
            "_view_count": null,
            "_view_module": "@jupyter-widgets/base",
            "_view_module_version": "1.2.0",
            "_view_name": "StyleView",
            "bar_color": null,
            "description_width": ""
          }
        },
        "c9b1a7f176794c2987b98b80cbde728d": {
          "model_module": "@jupyter-widgets/base",
          "model_name": "LayoutModel",
          "model_module_version": "1.2.0",
          "state": {
            "_model_module": "@jupyter-widgets/base",
            "_model_module_version": "1.2.0",
            "_model_name": "LayoutModel",
            "_view_count": null,
            "_view_module": "@jupyter-widgets/base",
            "_view_module_version": "1.2.0",
            "_view_name": "LayoutView",
            "align_content": null,
            "align_items": null,
            "align_self": null,
            "border": null,
            "bottom": null,
            "display": null,
            "flex": null,
            "flex_flow": null,
            "grid_area": null,
            "grid_auto_columns": null,
            "grid_auto_flow": null,
            "grid_auto_rows": null,
            "grid_column": null,
            "grid_gap": null,
            "grid_row": null,
            "grid_template_areas": null,
            "grid_template_columns": null,
            "grid_template_rows": null,
            "height": null,
            "justify_content": null,
            "justify_items": null,
            "left": null,
            "margin": null,
            "max_height": null,
            "max_width": null,
            "min_height": null,
            "min_width": null,
            "object_fit": null,
            "object_position": null,
            "order": null,
            "overflow": null,
            "overflow_x": null,
            "overflow_y": null,
            "padding": null,
            "right": null,
            "top": null,
            "visibility": null,
            "width": null
          }
        },
        "b450e8cd0b1a4e17b9a4bf249eed6787": {
          "model_module": "@jupyter-widgets/controls",
          "model_name": "DescriptionStyleModel",
          "model_module_version": "1.5.0",
          "state": {
            "_model_module": "@jupyter-widgets/controls",
            "_model_module_version": "1.5.0",
            "_model_name": "DescriptionStyleModel",
            "_view_count": null,
            "_view_module": "@jupyter-widgets/base",
            "_view_module_version": "1.2.0",
            "_view_name": "StyleView",
            "description_width": ""
          }
        },
        "757db8bd1ecd47d094a2caf386ac5d3e": {
          "model_module": "@jupyter-widgets/controls",
          "model_name": "HBoxModel",
          "model_module_version": "1.5.0",
          "state": {
            "_dom_classes": [],
            "_model_module": "@jupyter-widgets/controls",
            "_model_module_version": "1.5.0",
            "_model_name": "HBoxModel",
            "_view_count": null,
            "_view_module": "@jupyter-widgets/controls",
            "_view_module_version": "1.5.0",
            "_view_name": "HBoxView",
            "box_style": "",
            "children": [
              "IPY_MODEL_c5921411d960420d89b5d24609868c2e",
              "IPY_MODEL_6cf6253510284c6fa34cca315935a379",
              "IPY_MODEL_1141849fec8745c6a12a4aaa0749cbb1"
            ],
            "layout": "IPY_MODEL_ce72f695e783462684bb3b8ef3f936e1"
          }
        },
        "c5921411d960420d89b5d24609868c2e": {
          "model_module": "@jupyter-widgets/controls",
          "model_name": "HTMLModel",
          "model_module_version": "1.5.0",
          "state": {
            "_dom_classes": [],
            "_model_module": "@jupyter-widgets/controls",
            "_model_module_version": "1.5.0",
            "_model_name": "HTMLModel",
            "_view_count": null,
            "_view_module": "@jupyter-widgets/controls",
            "_view_module_version": "1.5.0",
            "_view_name": "HTMLView",
            "description": "",
            "description_tooltip": null,
            "layout": "IPY_MODEL_f1f9165a685b47a2a9cb7f12a0d49823",
            "placeholder": "​",
            "style": "IPY_MODEL_c3f77495bf944767abbb13c28ea0f0a0",
            "value": "100%"
          }
        },
        "6cf6253510284c6fa34cca315935a379": {
          "model_module": "@jupyter-widgets/controls",
          "model_name": "FloatProgressModel",
          "model_module_version": "1.5.0",
          "state": {
            "_dom_classes": [],
            "_model_module": "@jupyter-widgets/controls",
            "_model_module_version": "1.5.0",
            "_model_name": "FloatProgressModel",
            "_view_count": null,
            "_view_module": "@jupyter-widgets/controls",
            "_view_module_version": "1.5.0",
            "_view_name": "ProgressView",
            "bar_style": "success",
            "description": "",
            "description_tooltip": null,
            "layout": "IPY_MODEL_e554facac06342fcb0710a30d6d856b5",
            "max": 4542,
            "min": 0,
            "orientation": "horizontal",
            "style": "IPY_MODEL_a67e9e58326b4869b9ad6242be73776d",
            "value": 4542
          }
        },
        "1141849fec8745c6a12a4aaa0749cbb1": {
          "model_module": "@jupyter-widgets/controls",
          "model_name": "HTMLModel",
          "model_module_version": "1.5.0",
          "state": {
            "_dom_classes": [],
            "_model_module": "@jupyter-widgets/controls",
            "_model_module_version": "1.5.0",
            "_model_name": "HTMLModel",
            "_view_count": null,
            "_view_module": "@jupyter-widgets/controls",
            "_view_module_version": "1.5.0",
            "_view_name": "HTMLView",
            "description": "",
            "description_tooltip": null,
            "layout": "IPY_MODEL_eaaaf61c350942629161bc41f5693ccc",
            "placeholder": "​",
            "style": "IPY_MODEL_5c0cadade14340be967d559352f89b6c",
            "value": " 4542/4542 [00:00&lt;00:00, 100657.45it/s]"
          }
        },
        "ce72f695e783462684bb3b8ef3f936e1": {
          "model_module": "@jupyter-widgets/base",
          "model_name": "LayoutModel",
          "model_module_version": "1.2.0",
          "state": {
            "_model_module": "@jupyter-widgets/base",
            "_model_module_version": "1.2.0",
            "_model_name": "LayoutModel",
            "_view_count": null,
            "_view_module": "@jupyter-widgets/base",
            "_view_module_version": "1.2.0",
            "_view_name": "LayoutView",
            "align_content": null,
            "align_items": null,
            "align_self": null,
            "border": null,
            "bottom": null,
            "display": null,
            "flex": null,
            "flex_flow": null,
            "grid_area": null,
            "grid_auto_columns": null,
            "grid_auto_flow": null,
            "grid_auto_rows": null,
            "grid_column": null,
            "grid_gap": null,
            "grid_row": null,
            "grid_template_areas": null,
            "grid_template_columns": null,
            "grid_template_rows": null,
            "height": null,
            "justify_content": null,
            "justify_items": null,
            "left": null,
            "margin": null,
            "max_height": null,
            "max_width": null,
            "min_height": null,
            "min_width": null,
            "object_fit": null,
            "object_position": null,
            "order": null,
            "overflow": null,
            "overflow_x": null,
            "overflow_y": null,
            "padding": null,
            "right": null,
            "top": null,
            "visibility": null,
            "width": null
          }
        },
        "f1f9165a685b47a2a9cb7f12a0d49823": {
          "model_module": "@jupyter-widgets/base",
          "model_name": "LayoutModel",
          "model_module_version": "1.2.0",
          "state": {
            "_model_module": "@jupyter-widgets/base",
            "_model_module_version": "1.2.0",
            "_model_name": "LayoutModel",
            "_view_count": null,
            "_view_module": "@jupyter-widgets/base",
            "_view_module_version": "1.2.0",
            "_view_name": "LayoutView",
            "align_content": null,
            "align_items": null,
            "align_self": null,
            "border": null,
            "bottom": null,
            "display": null,
            "flex": null,
            "flex_flow": null,
            "grid_area": null,
            "grid_auto_columns": null,
            "grid_auto_flow": null,
            "grid_auto_rows": null,
            "grid_column": null,
            "grid_gap": null,
            "grid_row": null,
            "grid_template_areas": null,
            "grid_template_columns": null,
            "grid_template_rows": null,
            "height": null,
            "justify_content": null,
            "justify_items": null,
            "left": null,
            "margin": null,
            "max_height": null,
            "max_width": null,
            "min_height": null,
            "min_width": null,
            "object_fit": null,
            "object_position": null,
            "order": null,
            "overflow": null,
            "overflow_x": null,
            "overflow_y": null,
            "padding": null,
            "right": null,
            "top": null,
            "visibility": null,
            "width": null
          }
        },
        "c3f77495bf944767abbb13c28ea0f0a0": {
          "model_module": "@jupyter-widgets/controls",
          "model_name": "DescriptionStyleModel",
          "model_module_version": "1.5.0",
          "state": {
            "_model_module": "@jupyter-widgets/controls",
            "_model_module_version": "1.5.0",
            "_model_name": "DescriptionStyleModel",
            "_view_count": null,
            "_view_module": "@jupyter-widgets/base",
            "_view_module_version": "1.2.0",
            "_view_name": "StyleView",
            "description_width": ""
          }
        },
        "e554facac06342fcb0710a30d6d856b5": {
          "model_module": "@jupyter-widgets/base",
          "model_name": "LayoutModel",
          "model_module_version": "1.2.0",
          "state": {
            "_model_module": "@jupyter-widgets/base",
            "_model_module_version": "1.2.0",
            "_model_name": "LayoutModel",
            "_view_count": null,
            "_view_module": "@jupyter-widgets/base",
            "_view_module_version": "1.2.0",
            "_view_name": "LayoutView",
            "align_content": null,
            "align_items": null,
            "align_self": null,
            "border": null,
            "bottom": null,
            "display": null,
            "flex": null,
            "flex_flow": null,
            "grid_area": null,
            "grid_auto_columns": null,
            "grid_auto_flow": null,
            "grid_auto_rows": null,
            "grid_column": null,
            "grid_gap": null,
            "grid_row": null,
            "grid_template_areas": null,
            "grid_template_columns": null,
            "grid_template_rows": null,
            "height": null,
            "justify_content": null,
            "justify_items": null,
            "left": null,
            "margin": null,
            "max_height": null,
            "max_width": null,
            "min_height": null,
            "min_width": null,
            "object_fit": null,
            "object_position": null,
            "order": null,
            "overflow": null,
            "overflow_x": null,
            "overflow_y": null,
            "padding": null,
            "right": null,
            "top": null,
            "visibility": null,
            "width": null
          }
        },
        "a67e9e58326b4869b9ad6242be73776d": {
          "model_module": "@jupyter-widgets/controls",
          "model_name": "ProgressStyleModel",
          "model_module_version": "1.5.0",
          "state": {
            "_model_module": "@jupyter-widgets/controls",
            "_model_module_version": "1.5.0",
            "_model_name": "ProgressStyleModel",
            "_view_count": null,
            "_view_module": "@jupyter-widgets/base",
            "_view_module_version": "1.2.0",
            "_view_name": "StyleView",
            "bar_color": null,
            "description_width": ""
          }
        },
        "eaaaf61c350942629161bc41f5693ccc": {
          "model_module": "@jupyter-widgets/base",
          "model_name": "LayoutModel",
          "model_module_version": "1.2.0",
          "state": {
            "_model_module": "@jupyter-widgets/base",
            "_model_module_version": "1.2.0",
            "_model_name": "LayoutModel",
            "_view_count": null,
            "_view_module": "@jupyter-widgets/base",
            "_view_module_version": "1.2.0",
            "_view_name": "LayoutView",
            "align_content": null,
            "align_items": null,
            "align_self": null,
            "border": null,
            "bottom": null,
            "display": null,
            "flex": null,
            "flex_flow": null,
            "grid_area": null,
            "grid_auto_columns": null,
            "grid_auto_flow": null,
            "grid_auto_rows": null,
            "grid_column": null,
            "grid_gap": null,
            "grid_row": null,
            "grid_template_areas": null,
            "grid_template_columns": null,
            "grid_template_rows": null,
            "height": null,
            "justify_content": null,
            "justify_items": null,
            "left": null,
            "margin": null,
            "max_height": null,
            "max_width": null,
            "min_height": null,
            "min_width": null,
            "object_fit": null,
            "object_position": null,
            "order": null,
            "overflow": null,
            "overflow_x": null,
            "overflow_y": null,
            "padding": null,
            "right": null,
            "top": null,
            "visibility": null,
            "width": null
          }
        },
        "5c0cadade14340be967d559352f89b6c": {
          "model_module": "@jupyter-widgets/controls",
          "model_name": "DescriptionStyleModel",
          "model_module_version": "1.5.0",
          "state": {
            "_model_module": "@jupyter-widgets/controls",
            "_model_module_version": "1.5.0",
            "_model_name": "DescriptionStyleModel",
            "_view_count": null,
            "_view_module": "@jupyter-widgets/base",
            "_view_module_version": "1.2.0",
            "_view_name": "StyleView",
            "description_width": ""
          }
        }
      }
    }
  },
  "cells": [
    {
      "cell_type": "markdown",
      "metadata": {
        "id": "view-in-github",
        "colab_type": "text"
      },
      "source": [
        "<a href=\"https://colab.research.google.com/github/Abudhagir/Abudhagir/blob/main/Assignment_2_5_MNIST.ipynb\" target=\"_parent\"><img src=\"https://colab.research.google.com/assets/colab-badge.svg\" alt=\"Open In Colab\"/></a>"
      ]
    },
    {
      "cell_type": "code",
      "execution_count": null,
      "metadata": {
        "id": "5o1qotq0Ao-z"
      },
      "outputs": [],
      "source": [
        "import torch\n",
        "import torch.nn.functional as F\n",
        "import torch.optim as optim"
      ]
    },
    {
      "cell_type": "code",
      "source": [
        "from torch.utils.data import random_split\n",
        "from torch.utils.data import DataLoader\n",
        "from torchvision.transforms import ToTensor\n",
        "from torchvision.datasets import MNIST\n",
        "from torch.optim import Adam\n",
        "from torch import nn\n",
        "import matplotlib.pyplot as plt\n",
        "import numpy as np\n",
        "import argparse\n",
        "import torch\n",
        "import time"
      ],
      "metadata": {
        "id": "aqbP00n_irQW"
      },
      "execution_count": null,
      "outputs": []
    },
    {
      "cell_type": "code",
      "source": [
        "import torch\n",
        "import torch.nn.functional as Fun\n",
        "A = torch.tensor([3, 4, 5, 0, 1, 2])\n",
        "output = Fun.one_hot(A, num_classes = 7)\n",
        "print(output)"
      ],
      "metadata": {
        "colab": {
          "base_uri": "https://localhost:8080/"
        },
        "id": "F4CYW6ggjKRn",
        "outputId": "a98a6446-4023-4a25-dcd8-7a9a627936ca"
      },
      "execution_count": null,
      "outputs": [
        {
          "output_type": "stream",
          "name": "stdout",
          "text": [
            "tensor([[0, 0, 0, 1, 0, 0, 0],\n",
            "        [0, 0, 0, 0, 1, 0, 0],\n",
            "        [0, 0, 0, 0, 0, 1, 0],\n",
            "        [1, 0, 0, 0, 0, 0, 0],\n",
            "        [0, 1, 0, 0, 0, 0, 0],\n",
            "        [0, 0, 1, 0, 0, 0, 0]])\n"
          ]
        }
      ]
    },
    {
      "cell_type": "code",
      "source": [
        "from numpy.core.numeric import binary_repr\n",
        "import numpy as np\n",
        "\n",
        "lr = np.arange(22)\n",
        "\n",
        "for label in range(22):\n",
        "    one_hot = (lr==label).astype(np.int)\n",
        "    binary_re = np.binary_repr(label)\n",
        "    print(\"label: \", label, \" in one-hot representation: \", one_hot, \"binary:\", binary_re)"
      ],
      "metadata": {
        "colab": {
          "base_uri": "https://localhost:8080/"
        },
        "id": "5abJlBciAsri",
        "outputId": "b581f635-8781-42b5-c948-f006b8c2f6d1"
      },
      "execution_count": null,
      "outputs": [
        {
          "output_type": "stream",
          "name": "stdout",
          "text": [
            "label:  0  in one-hot representation:  [1 0 0 0 0 0 0 0 0 0 0 0 0 0 0 0 0 0 0 0 0 0] binary: 0\n",
            "label:  1  in one-hot representation:  [0 1 0 0 0 0 0 0 0 0 0 0 0 0 0 0 0 0 0 0 0 0] binary: 1\n",
            "label:  2  in one-hot representation:  [0 0 1 0 0 0 0 0 0 0 0 0 0 0 0 0 0 0 0 0 0 0] binary: 10\n",
            "label:  3  in one-hot representation:  [0 0 0 1 0 0 0 0 0 0 0 0 0 0 0 0 0 0 0 0 0 0] binary: 11\n",
            "label:  4  in one-hot representation:  [0 0 0 0 1 0 0 0 0 0 0 0 0 0 0 0 0 0 0 0 0 0] binary: 100\n",
            "label:  5  in one-hot representation:  [0 0 0 0 0 1 0 0 0 0 0 0 0 0 0 0 0 0 0 0 0 0] binary: 101\n",
            "label:  6  in one-hot representation:  [0 0 0 0 0 0 1 0 0 0 0 0 0 0 0 0 0 0 0 0 0 0] binary: 110\n",
            "label:  7  in one-hot representation:  [0 0 0 0 0 0 0 1 0 0 0 0 0 0 0 0 0 0 0 0 0 0] binary: 111\n",
            "label:  8  in one-hot representation:  [0 0 0 0 0 0 0 0 1 0 0 0 0 0 0 0 0 0 0 0 0 0] binary: 1000\n",
            "label:  9  in one-hot representation:  [0 0 0 0 0 0 0 0 0 1 0 0 0 0 0 0 0 0 0 0 0 0] binary: 1001\n",
            "label:  10  in one-hot representation:  [0 0 0 0 0 0 0 0 0 0 1 0 0 0 0 0 0 0 0 0 0 0] binary: 1010\n",
            "label:  11  in one-hot representation:  [0 0 0 0 0 0 0 0 0 0 0 1 0 0 0 0 0 0 0 0 0 0] binary: 1011\n",
            "label:  12  in one-hot representation:  [0 0 0 0 0 0 0 0 0 0 0 0 1 0 0 0 0 0 0 0 0 0] binary: 1100\n",
            "label:  13  in one-hot representation:  [0 0 0 0 0 0 0 0 0 0 0 0 0 1 0 0 0 0 0 0 0 0] binary: 1101\n",
            "label:  14  in one-hot representation:  [0 0 0 0 0 0 0 0 0 0 0 0 0 0 1 0 0 0 0 0 0 0] binary: 1110\n",
            "label:  15  in one-hot representation:  [0 0 0 0 0 0 0 0 0 0 0 0 0 0 0 1 0 0 0 0 0 0] binary: 1111\n",
            "label:  16  in one-hot representation:  [0 0 0 0 0 0 0 0 0 0 0 0 0 0 0 0 1 0 0 0 0 0] binary: 10000\n",
            "label:  17  in one-hot representation:  [0 0 0 0 0 0 0 0 0 0 0 0 0 0 0 0 0 1 0 0 0 0] binary: 10001\n",
            "label:  18  in one-hot representation:  [0 0 0 0 0 0 0 0 0 0 0 0 0 0 0 0 0 0 1 0 0 0] binary: 10010\n",
            "label:  19  in one-hot representation:  [0 0 0 0 0 0 0 0 0 0 0 0 0 0 0 0 0 0 0 1 0 0] binary: 10011\n",
            "label:  20  in one-hot representation:  [0 0 0 0 0 0 0 0 0 0 0 0 0 0 0 0 0 0 0 0 1 0] binary: 10100\n",
            "label:  21  in one-hot representation:  [0 0 0 0 0 0 0 0 0 0 0 0 0 0 0 0 0 0 0 0 0 1] binary: 10101\n"
          ]
        },
        {
          "output_type": "stream",
          "name": "stderr",
          "text": [
            "<ipython-input-8-2c33e60c8bb3>:7: DeprecationWarning: `np.int` is a deprecated alias for the builtin `int`. To silence this warning, use `int` by itself. Doing this will not modify any behavior and is safe. When replacing `np.int`, you may wish to use e.g. `np.int64` or `np.int32` to specify the precision. If you wish to review your current use, check the release note link for additional information.\n",
            "Deprecated in NumPy 1.20; for more details and guidance: https://numpy.org/devdocs/release/1.20.0-notes.html#deprecations\n",
            "  one_hot = (lr==label).astype(np.int)\n"
          ]
        }
      ]
    },
    {
      "cell_type": "code",
      "source": [
        "import torch\n",
        "import torchvision # provide access to datasets, models, transforms, utils, etc\n",
        "import torchvision.transforms as transforms"
      ],
      "metadata": {
        "id": "XdVVZDACJp8I"
      },
      "execution_count": 1,
      "outputs": []
    },
    {
      "cell_type": "code",
      "source": [
        "import torch.nn.functional as F\n",
        "import torch.optim as optim"
      ],
      "metadata": {
        "id": "ijH_-bZpyA_t"
      },
      "execution_count": 2,
      "outputs": []
    },
    {
      "cell_type": "code",
      "source": [
        "train_set = torchvision.datasets.MNIST(\n",
        "    root='./data'\n",
        "    ,train=True\n",
        "    ,download=True\n",
        "    ,transform=transforms.Compose([\n",
        "        transforms.ToTensor()\n",
        "    ])\n",
        ")"
      ],
      "metadata": {
        "colab": {
          "base_uri": "https://localhost:8080/",
          "height": 443,
          "referenced_widgets": [
            "0a7ad4d5bd2e4fc48ef6ed63095d207a",
            "836190739d354647a0fa818ef59dc9ea",
            "2e1201e17e0d4b8b89281d18d050fb70",
            "761f118514514fcda01f066d6a7ac472",
            "41f071719c074cac825e46e272b29b69",
            "7d0a29694a57415793c608285195bc27",
            "2809fadd21b449dea2226e838c32f743",
            "94d6fcda321c4d0995eac9f98d3050ab",
            "0354099cdea24b92b6288d098c3e1407",
            "2406d9419a4242428f0b201322ebc967",
            "7eb3fa15f62f4d21ad775a15469b9398",
            "e58ce0c85bd94e40a7085b5d68fb8b72",
            "90d4fefea3ad4d45ac8bf679910e3b57",
            "6cbfb1d66301449795cc72522c2ac279",
            "626aac2023a545ae8d6133daccb66206",
            "65a0d6ad46f24de98ce55bf50276888d",
            "ed7ce3b2a77745dc86e4b3f8d5448d3d",
            "fda7660e31f54e52aa2525b700f6352f",
            "7f106061bb884d9c8e25c32345168d9e",
            "c67849c285f1438299e82037cfc8ca3b",
            "b263cbef9c044b128e8dd20dd537583b",
            "61f0d5535aba4f57bc07f300d7c640a0",
            "fd618b02f01f45a2aabe7a3c363fa3cd",
            "9ff349648c1d4d3f99e171c4cbad8047",
            "0ff7706a471e4a49942da3a5a470ecb8",
            "5bd25ad1b2e64dc98de27cc919a546d1",
            "3a49b85b5b7f45e582a46244075bd9a1",
            "a69f2fb4c6be4409bf9ec9b34c1157e1",
            "a4c0b9bd2d2f48198e4a59ee08dc1359",
            "ab81016920cc48daa77675cdf27441ce",
            "d36c7fe9f674454ca576a44f9fe510b8",
            "c9b1a7f176794c2987b98b80cbde728d",
            "b450e8cd0b1a4e17b9a4bf249eed6787",
            "757db8bd1ecd47d094a2caf386ac5d3e",
            "c5921411d960420d89b5d24609868c2e",
            "6cf6253510284c6fa34cca315935a379",
            "1141849fec8745c6a12a4aaa0749cbb1",
            "ce72f695e783462684bb3b8ef3f936e1",
            "f1f9165a685b47a2a9cb7f12a0d49823",
            "c3f77495bf944767abbb13c28ea0f0a0",
            "e554facac06342fcb0710a30d6d856b5",
            "a67e9e58326b4869b9ad6242be73776d",
            "eaaaf61c350942629161bc41f5693ccc",
            "5c0cadade14340be967d559352f89b6c"
          ]
        },
        "id": "AhiRCfkH1EQR",
        "outputId": "d649d17f-051a-42f2-d0a3-1c5bf7ef79a9"
      },
      "execution_count": 3,
      "outputs": [
        {
          "output_type": "stream",
          "name": "stdout",
          "text": [
            "Downloading http://yann.lecun.com/exdb/mnist/train-images-idx3-ubyte.gz\n",
            "Downloading http://yann.lecun.com/exdb/mnist/train-images-idx3-ubyte.gz to ./data/MNIST/raw/train-images-idx3-ubyte.gz\n"
          ]
        },
        {
          "output_type": "display_data",
          "data": {
            "text/plain": [
              "  0%|          | 0/9912422 [00:00<?, ?it/s]"
            ],
            "application/vnd.jupyter.widget-view+json": {
              "version_major": 2,
              "version_minor": 0,
              "model_id": "0a7ad4d5bd2e4fc48ef6ed63095d207a"
            }
          },
          "metadata": {}
        },
        {
          "output_type": "stream",
          "name": "stdout",
          "text": [
            "Extracting ./data/MNIST/raw/train-images-idx3-ubyte.gz to ./data/MNIST/raw\n",
            "\n",
            "Downloading http://yann.lecun.com/exdb/mnist/train-labels-idx1-ubyte.gz\n",
            "Downloading http://yann.lecun.com/exdb/mnist/train-labels-idx1-ubyte.gz to ./data/MNIST/raw/train-labels-idx1-ubyte.gz\n"
          ]
        },
        {
          "output_type": "display_data",
          "data": {
            "text/plain": [
              "  0%|          | 0/28881 [00:00<?, ?it/s]"
            ],
            "application/vnd.jupyter.widget-view+json": {
              "version_major": 2,
              "version_minor": 0,
              "model_id": "e58ce0c85bd94e40a7085b5d68fb8b72"
            }
          },
          "metadata": {}
        },
        {
          "output_type": "stream",
          "name": "stdout",
          "text": [
            "Extracting ./data/MNIST/raw/train-labels-idx1-ubyte.gz to ./data/MNIST/raw\n",
            "\n",
            "Downloading http://yann.lecun.com/exdb/mnist/t10k-images-idx3-ubyte.gz\n",
            "Downloading http://yann.lecun.com/exdb/mnist/t10k-images-idx3-ubyte.gz to ./data/MNIST/raw/t10k-images-idx3-ubyte.gz\n"
          ]
        },
        {
          "output_type": "display_data",
          "data": {
            "text/plain": [
              "  0%|          | 0/1648877 [00:00<?, ?it/s]"
            ],
            "application/vnd.jupyter.widget-view+json": {
              "version_major": 2,
              "version_minor": 0,
              "model_id": "fd618b02f01f45a2aabe7a3c363fa3cd"
            }
          },
          "metadata": {}
        },
        {
          "output_type": "stream",
          "name": "stdout",
          "text": [
            "Extracting ./data/MNIST/raw/t10k-images-idx3-ubyte.gz to ./data/MNIST/raw\n",
            "\n",
            "Downloading http://yann.lecun.com/exdb/mnist/t10k-labels-idx1-ubyte.gz\n",
            "Downloading http://yann.lecun.com/exdb/mnist/t10k-labels-idx1-ubyte.gz to ./data/MNIST/raw/t10k-labels-idx1-ubyte.gz\n"
          ]
        },
        {
          "output_type": "display_data",
          "data": {
            "text/plain": [
              "  0%|          | 0/4542 [00:00<?, ?it/s]"
            ],
            "application/vnd.jupyter.widget-view+json": {
              "version_major": 2,
              "version_minor": 0,
              "model_id": "757db8bd1ecd47d094a2caf386ac5d3e"
            }
          },
          "metadata": {}
        },
        {
          "output_type": "stream",
          "name": "stdout",
          "text": [
            "Extracting ./data/MNIST/raw/t10k-labels-idx1-ubyte.gz to ./data/MNIST/raw\n",
            "\n"
          ]
        }
      ]
    },
    {
      "cell_type": "code",
      "source": [
        "train_loader = torch.utils.data.DataLoader(train_set\n",
        "    ,batch_size=32\n",
        "    ,shuffle=True\n",
        ")"
      ],
      "metadata": {
        "id": "6P9PjdE31TxT"
      },
      "execution_count": 4,
      "outputs": []
    },
    {
      "cell_type": "code",
      "source": [
        "next(iter(train_loader))[1]"
      ],
      "metadata": {
        "colab": {
          "base_uri": "https://localhost:8080/"
        },
        "id": "A6u7pMBc1Zv0",
        "outputId": "6a32c04d-bd9c-419b-9671-993c3078850f"
      },
      "execution_count": null,
      "outputs": [
        {
          "output_type": "execute_result",
          "data": {
            "text/plain": [
              "tensor([1, 6, 4, 9, 6, 1, 0, 0, 7, 4, 9, 0, 1, 8, 2, 4, 4, 5, 5, 8, 5, 9, 6, 0,\n",
              "        2, 2, 3, 3, 0, 1, 1, 5])"
            ]
          },
          "metadata": {},
          "execution_count": 11
        }
      ]
    },
    {
      "cell_type": "code",
      "source": [
        "import numpy as np\n",
        "import matplotlib.pyplot as plt\n",
        "\n",
        "torch.set_printoptions(linewidth=120)"
      ],
      "metadata": {
        "id": "m-DEUdTg1b_1"
      },
      "execution_count": 5,
      "outputs": []
    },
    {
      "cell_type": "code",
      "source": [
        "len(train_set)"
      ],
      "metadata": {
        "colab": {
          "base_uri": "https://localhost:8080/"
        },
        "id": "XGZHI9s41gm6",
        "outputId": "626d9b72-3c79-4501-b065-7ea08a8b9005"
      },
      "execution_count": null,
      "outputs": [
        {
          "output_type": "execute_result",
          "data": {
            "text/plain": [
              "60000"
            ]
          },
          "metadata": {},
          "execution_count": 13
        }
      ]
    },
    {
      "cell_type": "code",
      "source": [
        "train_set.train_labels"
      ],
      "metadata": {
        "colab": {
          "base_uri": "https://localhost:8080/"
        },
        "id": "_kC3aylZ1kT3",
        "outputId": "d821f3dd-3961-42af-8984-f0ba5ef4e6ae"
      },
      "execution_count": null,
      "outputs": [
        {
          "output_type": "stream",
          "name": "stderr",
          "text": [
            "/usr/local/lib/python3.8/dist-packages/torchvision/datasets/mnist.py:65: UserWarning: train_labels has been renamed targets\n",
            "  warnings.warn(\"train_labels has been renamed targets\")\n"
          ]
        },
        {
          "output_type": "execute_result",
          "data": {
            "text/plain": [
              "tensor([5, 0, 4,  ..., 5, 6, 8])"
            ]
          },
          "metadata": {},
          "execution_count": 14
        }
      ]
    },
    {
      "cell_type": "code",
      "source": [
        "sample = next(iter(train_set))\n",
        "\n",
        "len(sample)"
      ],
      "metadata": {
        "colab": {
          "base_uri": "https://localhost:8080/"
        },
        "id": "rUX18URe1oBX",
        "outputId": "60a50e7d-9df3-485c-ca09-6379b6f77991"
      },
      "execution_count": 6,
      "outputs": [
        {
          "output_type": "execute_result",
          "data": {
            "text/plain": [
              "2"
            ]
          },
          "metadata": {},
          "execution_count": 6
        }
      ]
    },
    {
      "cell_type": "code",
      "source": [
        "image, label = sample"
      ],
      "metadata": {
        "id": "D2lVLTPv1x7O"
      },
      "execution_count": 7,
      "outputs": []
    },
    {
      "cell_type": "code",
      "source": [
        "plt.imshow(image.squeeze(), cmap='gray')\n",
        "print('label:', label)"
      ],
      "metadata": {
        "colab": {
          "base_uri": "https://localhost:8080/",
          "height": 282
        },
        "id": "vkP05irf14aO",
        "outputId": "997e50e2-e0e3-4523-9a51-88809e28ea73"
      },
      "execution_count": 10,
      "outputs": [
        {
          "output_type": "stream",
          "name": "stdout",
          "text": [
            "label: 5\n"
          ]
        },
        {
          "output_type": "display_data",
          "data": {
            "text/plain": [
              "<Figure size 432x288 with 1 Axes>"
            ],
            "image/png": "[encoded data removed]"
          },
          "metadata": {
            "needs_background": "light"
          }
        }
      ]
    },
    {
      "cell_type": "code",
      "source": [
        "batch = next(iter(train_loader))\n",
        "\n",
        "len(batch), type(batch)"
      ],
      "metadata": {
        "colab": {
          "base_uri": "https://localhost:8080/"
        },
        "id": "rvuOVqWK0sGn",
        "outputId": "880be134-b3e3-4723-a3db-8a92ef28017e"
      },
      "execution_count": 11,
      "outputs": [
        {
          "output_type": "execute_result",
          "data": {
            "text/plain": [
              "(2, list)"
            ]
          },
          "metadata": {},
          "execution_count": 11
        }
      ]
    },
    {
      "cell_type": "code",
      "source": [
        "image, label = batch\n"
      ],
      "metadata": {
        "id": "hLv6OKOT00Ww"
      },
      "execution_count": 12,
      "outputs": []
    },
    {
      "cell_type": "code",
      "source": [
        "image.shape, label.shape"
      ],
      "metadata": {
        "colab": {
          "base_uri": "https://localhost:8080/"
        },
        "id": "17tXDD6e0_ie",
        "outputId": "e7f7bfe9-014f-45fa-edba-1a198ca2a8b9"
      },
      "execution_count": 13,
      "outputs": [
        {
          "output_type": "execute_result",
          "data": {
            "text/plain": [
              "(torch.Size([32, 1, 28, 28]), torch.Size([32]))"
            ]
          },
          "metadata": {},
          "execution_count": 13
        }
      ]
    },
    {
      "cell_type": "code",
      "source": [
        "grid = torchvision.utils.make_grid(image, nrow=10)\n",
        "plt.figure(figsize=(15,15))\n",
        "plt.imshow(np.transpose(grid, (1,2,0)))\n",
        "print('labels:', label)"
      ],
      "metadata": {
        "colab": {
          "base_uri": "https://localhost:8080/",
          "height": 417
        },
        "id": "zvEuuf9J1egP",
        "outputId": "087f03dd-bd67-4e5f-a7d0-02bdfb0d8d08"
      },
      "execution_count": 14,
      "outputs": [
        {
          "output_type": "stream",
          "name": "stdout",
          "text": [
            "labels: tensor([6, 7, 1, 4, 5, 4, 1, 7, 5, 4, 3, 3, 3, 0, 9, 2, 8, 5, 1, 7, 8, 0, 8, 5, 3, 9, 2, 6, 1, 5, 7, 7])\n"
          ]
        },
        {
          "output_type": "display_data",
          "data": {
            "text/plain": [
              "<Figure size 1080x1080 with 1 Axes>"
            ],
            "image/png": "[encoded data removed]"
          },
          "metadata": {
            "needs_background": "light"
          }
        }
      ]
    },
    {
      "cell_type": "code",
      "source": [
        "import torch.nn as nn\n",
        "\n",
        "class Network(nn.Module):\n",
        "  def __init__(self):\n",
        "    super().__init__()\n",
        "    self.layer = None\n",
        "\n",
        "  def forward(self, t):\n",
        "    t = self.layer(t)\n",
        "    return t"
      ],
      "metadata": {
        "id": "suG_9Y7w1rbq"
      },
      "execution_count": 15,
      "outputs": []
    },
    {
      "cell_type": "code",
      "source": [
        "class Network(nn.Module):\n",
        "  def __init__(self):\n",
        "    super().__init__()\n",
        "\n",
        "    # input 28 # output 24 # receptive_field = 5\n",
        "    self.conv1 = nn.Conv2d(in_channels=1, out_channels=6, kernel_size=5) \n",
        "    # input 24 # output 20 # receptive_field = 9\n",
        "    self.conv2 = nn.Conv2d(in_channels=6, out_channels=12, kernel_size=5)\n",
        "    # input 12x20x20, output 120\n",
        "    # input 10*512\n",
        "    self.fc1 = nn.Linear(in_features=12*20*20, out_features=120)\n",
        "    self.fc2 = nn.Linear(in_features=120, out_features=60)\n",
        "    self.out = nn.Linear(in_features=60, out_features=10)\n",
        "  \n",
        "  def forward(self, t):\n",
        "    return t"
      ],
      "metadata": {
        "id": "9xAQIQh-3HwW"
      },
      "execution_count": 16,
      "outputs": []
    },
    {
      "cell_type": "code",
      "source": [
        "network = Network()\n",
        "\n",
        "print(network)"
      ],
      "metadata": {
        "colab": {
          "base_uri": "https://localhost:8080/"
        },
        "id": "t2fx0PIz3Jx3",
        "outputId": "2cab2f04-addf-4d76-b187-6ddc9824f46e"
      },
      "execution_count": 17,
      "outputs": [
        {
          "output_type": "stream",
          "name": "stdout",
          "text": [
            "Network(\n",
            "  (conv1): Conv2d(1, 6, kernel_size=(5, 5), stride=(1, 1))\n",
            "  (conv2): Conv2d(6, 12, kernel_size=(5, 5), stride=(1, 1))\n",
            "  (fc1): Linear(in_features=4800, out_features=120, bias=True)\n",
            "  (fc2): Linear(in_features=120, out_features=60, bias=True)\n",
            "  (out): Linear(in_features=60, out_features=10, bias=True)\n",
            ")\n"
          ]
        }
      ]
    },
    {
      "cell_type": "code",
      "source": [
        "for name, param in network.named_parameters():\n",
        "  print(name, '\\t\\t', param.shape)"
      ],
      "metadata": {
        "colab": {
          "base_uri": "https://localhost:8080/"
        },
        "id": "xmbvZ3dz3T4Q",
        "outputId": "9c3dc17a-098a-41fd-c150-d68c5c0d312f"
      },
      "execution_count": 18,
      "outputs": [
        {
          "output_type": "stream",
          "name": "stdout",
          "text": [
            "conv1.weight \t\t torch.Size([6, 1, 5, 5])\n",
            "conv1.bias \t\t torch.Size([6])\n",
            "conv2.weight \t\t torch.Size([12, 6, 5, 5])\n",
            "conv2.bias \t\t torch.Size([12])\n",
            "fc1.weight \t\t torch.Size([120, 4800])\n",
            "fc1.bias \t\t torch.Size([120])\n",
            "fc2.weight \t\t torch.Size([60, 120])\n",
            "fc2.bias \t\t torch.Size([60])\n",
            "out.weight \t\t torch.Size([10, 60])\n",
            "out.bias \t\t torch.Size([10])\n"
          ]
        }
      ]
    },
    {
      "cell_type": "code",
      "source": [
        "import torch.optim as optim\n",
        "\n",
        "torch.set_grad_enabled(True)"
      ],
      "metadata": {
        "colab": {
          "base_uri": "https://localhost:8080/"
        },
        "id": "08IOnwfw36_A",
        "outputId": "ae19d098-ec43-47e1-81a3-2a2d6ea50195"
      },
      "execution_count": 19,
      "outputs": [
        {
          "output_type": "execute_result",
          "data": {
            "text/plain": [
              "<torch.autograd.grad_mode.set_grad_enabled at 0x7f16371a04f0>"
            ]
          },
          "metadata": {},
          "execution_count": 19
        }
      ]
    },
    {
      "cell_type": "code",
      "source": [
        "\n",
        "class Network(nn.Module):\n",
        "  def __init__(self):\n",
        "    super().__init__()\n",
        "    self.conv1 = nn.Conv2d(in_channels=1, out_channels=6, kernel_size=5) \n",
        "    self.conv2 = nn.Conv2d(in_channels=6, out_channels=12, kernel_size=5)\n",
        "    self.fc1 = nn.Linear(in_features=12 * 4 * 4, out_features=120)\n",
        "    self.fc2 = nn.Linear(in_features=120, out_features=60)\n",
        "    self.out = nn.Linear(in_features=60, out_features=10)\n",
        "  \n",
        "  def forward(self, t):\n",
        "    # input layer\n",
        "    x = t\n",
        "\n",
        "    # conv1 layer\n",
        "    x = self.conv1(x)\n",
        "    x = F.relu(x)\n",
        "    x = F.max_pool2d(x, kernel_size=2, stride=2) # 28 | 24 | 12\n",
        "\n",
        "    # conv2 layer\n",
        "    x = self.conv2(x)\n",
        "    x = F.relu(x)\n",
        "    x = F.max_pool2d(x, kernel_size=2, stride=2) # 12 | 8 | 4 >> 12x4x4\n",
        "\n",
        "    # reshapre\n",
        "    x = x.reshape(-1, 12 * 4 * 4)\n",
        "\n",
        "    # fc1 layer\n",
        "    x = self.fc1(x)\n",
        "    x = F.relu(x)\n",
        "\n",
        "    # fc2 layer\n",
        "    x = self.fc2(x)\n",
        "    x = F.relu(x)\n",
        "\n",
        "    # output layer\n",
        "    x = self.out(x)\n",
        "    # x = F.softmax(x, dim=1)\n",
        "    return x"
      ],
      "metadata": {
        "id": "ByMePrzg4XLp"
      },
      "execution_count": 20,
      "outputs": []
    },
    {
      "cell_type": "code",
      "source": [
        "torch.set_grad_enabled(False)"
      ],
      "metadata": {
        "colab": {
          "base_uri": "https://localhost:8080/"
        },
        "id": "01b3AZzj4aIF",
        "outputId": "c9f3b5c7-28de-408e-ea0b-7a812ac860be"
      },
      "execution_count": null,
      "outputs": [
        {
          "output_type": "execute_result",
          "data": {
            "text/plain": [
              "<torch.autograd.grad_mode.set_grad_enabled at 0x7efdd39ae400>"
            ]
          },
          "metadata": {},
          "execution_count": 36
        }
      ]
    },
    {
      "cell_type": "code",
      "source": [
        "sample = next(iter(train_set)) \n",
        "image, label = sample\n",
        "image.shape, image.unsqueeze(0).shape"
      ],
      "metadata": {
        "colab": {
          "base_uri": "https://localhost:8080/"
        },
        "id": "qq7v6m8A4kaZ",
        "outputId": "499f9ae8-9b04-403c-ec45-ecbdf5812a58"
      },
      "execution_count": 21,
      "outputs": [
        {
          "output_type": "execute_result",
          "data": {
            "text/plain": [
              "(torch.Size([1, 28, 28]), torch.Size([1, 1, 28, 28]))"
            ]
          },
          "metadata": {},
          "execution_count": 21
        }
      ]
    },
    {
      "cell_type": "code",
      "source": [
        "network = Network()"
      ],
      "metadata": {
        "id": "lESenTQ04msr"
      },
      "execution_count": 22,
      "outputs": []
    },
    {
      "cell_type": "code",
      "source": [
        "pred = network(image)"
      ],
      "metadata": {
        "id": "wlRkvVT04uWD"
      },
      "execution_count": 23,
      "outputs": []
    },
    {
      "cell_type": "code",
      "source": [
        "pred = network(image.unsqueeze(0))"
      ],
      "metadata": {
        "id": "eqt_t8Nw4yXJ"
      },
      "execution_count": 24,
      "outputs": []
    },
    {
      "cell_type": "code",
      "source": [
        "pred, pred.shape, label"
      ],
      "metadata": {
        "colab": {
          "base_uri": "https://localhost:8080/"
        },
        "id": "mkBlKcfJ4137",
        "outputId": "8a52bd12-ceec-4655-8243-7cfecd131e06"
      },
      "execution_count": 25,
      "outputs": [
        {
          "output_type": "execute_result",
          "data": {
            "text/plain": [
              "(tensor([[-0.0700,  0.0037, -0.0810, -0.0596,  0.0232, -0.0367, -0.0778, -0.0415,  0.0110,  0.0418]],\n",
              "        grad_fn=<AddmmBackward0>), torch.Size([1, 10]), 5)"
            ]
          },
          "metadata": {},
          "execution_count": 25
        }
      ]
    },
    {
      "cell_type": "code",
      "source": [
        "F.softmax(pred, dim=1)"
      ],
      "metadata": {
        "colab": {
          "base_uri": "https://localhost:8080/"
        },
        "id": "eYfa46oL48gj",
        "outputId": "4eaa5762-768e-4ec3-f3f9-926788dee1fe"
      },
      "execution_count": 26,
      "outputs": [
        {
          "output_type": "execute_result",
          "data": {
            "text/plain": [
              "tensor([[0.0959, 0.1032, 0.0948, 0.0969, 0.1052, 0.0991, 0.0951, 0.0986, 0.1040, 0.1072]], grad_fn=<SoftmaxBackward0>)"
            ]
          },
          "metadata": {},
          "execution_count": 26
        }
      ]
    },
    {
      "cell_type": "code",
      "source": [
        "data_loader = torch.utils.data.DataLoader(\n",
        "    train_set, \n",
        "    batch_size=10\n",
        ")"
      ],
      "metadata": {
        "id": "Rex9fHF75EiG"
      },
      "execution_count": 27,
      "outputs": []
    },
    {
      "cell_type": "code",
      "source": [
        "images, labels = batch\n",
        "\n",
        "preds = network(images)\n",
        "preds.shape"
      ],
      "metadata": {
        "colab": {
          "base_uri": "https://localhost:8080/"
        },
        "id": "AjF-wdb25MsF",
        "outputId": "c77cb926-4c96-43b7-ad1d-6de4f90aae88"
      },
      "execution_count": 28,
      "outputs": [
        {
          "output_type": "execute_result",
          "data": {
            "text/plain": [
              "torch.Size([32, 10])"
            ]
          },
          "metadata": {},
          "execution_count": 28
        }
      ]
    },
    {
      "cell_type": "code",
      "source": [
        "preds.argmax(dim=0)"
      ],
      "metadata": {
        "colab": {
          "base_uri": "https://localhost:8080/"
        },
        "id": "8Cm_U4RU5R8e",
        "outputId": "8d4b0ffb-50d3-4f25-9b56-f3f104d790c5"
      },
      "execution_count": null,
      "outputs": [
        {
          "output_type": "execute_result",
          "data": {
            "text/plain": [
              "tensor([75, 84, 56, 82, 52, 64, 91, 31, 56, 65])"
            ]
          },
          "metadata": {},
          "execution_count": 47
        }
      ]
    },
    {
      "cell_type": "code",
      "source": [
        "preds.argmax(dim=1).eq(labels)"
      ],
      "metadata": {
        "colab": {
          "base_uri": "https://localhost:8080/"
        },
        "id": "tbgpjmgR5aB5",
        "outputId": "3111922c-7aa1-409f-97d4-8bef1526ced2"
      },
      "execution_count": null,
      "outputs": [
        {
          "output_type": "execute_result",
          "data": {
            "text/plain": [
              "tensor([False, False, False,  True, False, False,  True, False,  True, False, False, False, False, False,  True, False,\n",
              "        False, False, False, False, False, False, False,  True,  True, False, False, False, False, False, False, False,\n",
              "        False, False, False, False, False, False, False, False,  True, False, False, False, False, False, False, False,\n",
              "        False, False, False, False, False, False, False, False, False, False, False,  True, False, False, False, False,\n",
              "        False, False, False,  True, False, False,  True, False,  True, False, False, False, False,  True,  True, False,\n",
              "        False, False, False, False, False, False, False, False, False, False, False, False, False, False, False, False,\n",
              "        False, False, False,  True])"
            ]
          },
          "metadata": {},
          "execution_count": 48
        }
      ]
    },
    {
      "cell_type": "code",
      "source": [
        "preds = network(images)\n",
        "loss = F.cross_entropy(preds, labels)\n",
        "loss.item()"
      ],
      "metadata": {
        "colab": {
          "base_uri": "https://localhost:8080/"
        },
        "id": "Plrq8qkh5fq4",
        "outputId": "f8a623ea-ff64-49bd-99f3-ed14419b3213"
      },
      "execution_count": 29,
      "outputs": [
        {
          "output_type": "execute_result",
          "data": {
            "text/plain": [
              "2.3020102977752686"
            ]
          },
          "metadata": {},
          "execution_count": 29
        }
      ]
    },
    {
      "cell_type": "code",
      "source": [
        "print(network.conv1.weight.grad)"
      ],
      "metadata": {
        "colab": {
          "base_uri": "https://localhost:8080/"
        },
        "id": "5qSBY6fh5lP7",
        "outputId": "c15ec516-9263-455b-8afc-019e5bd4aa46"
      },
      "execution_count": 30,
      "outputs": [
        {
          "output_type": "stream",
          "name": "stdout",
          "text": [
            "None\n"
          ]
        }
      ]
    },
    {
      "cell_type": "code",
      "source": [
        "import torch.optim as optim\n",
        "\n",
        "torch.set_grad_enabled(True)"
      ],
      "metadata": {
        "colab": {
          "base_uri": "https://localhost:8080/"
        },
        "id": "Xk8-S9zY5v2I",
        "outputId": "dee9b0eb-89bb-458b-da82-fcc723abcc7c"
      },
      "execution_count": null,
      "outputs": [
        {
          "output_type": "execute_result",
          "data": {
            "text/plain": [
              "<torch.autograd.grad_mode.set_grad_enabled at 0x7efdd39b7490>"
            ]
          },
          "metadata": {},
          "execution_count": 52
        }
      ]
    },
    {
      "cell_type": "code",
      "source": [
        "loss.backward()"
      ],
      "metadata": {
        "id": "d_Gwl3vV5mw2"
      },
      "execution_count": 31,
      "outputs": []
    },
    {
      "cell_type": "code",
      "source": [
        "print(network.conv1.weight.grad)"
      ],
      "metadata": {
        "colab": {
          "base_uri": "https://localhost:8080/"
        },
        "id": "N0ibWRAs6epa",
        "outputId": "5cb2db10-62b6-42b7-d1fc-2b954aa8b10f"
      },
      "execution_count": 32,
      "outputs": [
        {
          "output_type": "stream",
          "name": "stdout",
          "text": [
            "tensor([[[[-9.0854e-04, -6.4785e-04, -6.1840e-04,  1.2572e-03,  1.6241e-03],\n",
            "          [-2.1638e-03, -2.1431e-03, -1.3846e-03,  1.0781e-04,  6.9441e-04],\n",
            "          [-2.7126e-03, -1.7648e-03, -1.9654e-03, -1.0896e-03,  2.4890e-04],\n",
            "          [-3.6368e-03, -2.5113e-03, -1.8562e-03, -6.9341e-04,  8.6996e-04],\n",
            "          [-2.5590e-03, -1.5425e-03, -6.4505e-04,  5.7174e-04,  1.2464e-03]]],\n",
            "\n",
            "\n",
            "        [[[-2.0364e-03, -2.1965e-03, -2.2889e-03, -1.2082e-03, -8.6590e-04],\n",
            "          [-1.1407e-03, -1.5831e-03, -1.4071e-03, -6.5509e-04,  4.6826e-04],\n",
            "          [-2.2534e-04, -6.5263e-04, -8.3916e-04, -4.1440e-04,  3.8454e-04],\n",
            "          [-3.9837e-04, -7.2283e-04, -7.6945e-04,  5.9779e-04,  1.0075e-03],\n",
            "          [ 3.4876e-04, -5.6831e-04, -9.7526e-05,  1.7219e-03,  1.6616e-03]]],\n",
            "\n",
            "\n",
            "        [[[ 3.2468e-05, -8.1221e-05,  8.2562e-05, -1.6865e-06, -3.6488e-05],\n",
            "          [ 1.2490e-04,  1.4197e-04,  1.3480e-05,  2.6738e-04,  3.0039e-04],\n",
            "          [ 1.7449e-04,  9.4836e-05,  6.1971e-05,  4.8758e-05,  6.1034e-04],\n",
            "          [ 7.5366e-05, -1.4292e-04,  3.5242e-05,  4.0665e-04,  5.7345e-04],\n",
            "          [-2.8249e-04, -5.2407e-04,  2.6829e-05,  2.1152e-04,  3.2675e-04]]],\n",
            "\n",
            "\n",
            "        [[[ 6.0960e-06,  3.1160e-05,  0.0000e+00,  0.0000e+00,  0.0000e+00],\n",
            "          [ 3.5036e-06,  1.3083e-05,  0.0000e+00,  0.0000e+00,  0.0000e+00],\n",
            "          [ 6.3214e-06,  1.4998e-05,  0.0000e+00,  0.0000e+00,  0.0000e+00],\n",
            "          [-2.8583e-06, -1.8264e-06,  0.0000e+00,  0.0000e+00,  0.0000e+00],\n",
            "          [-1.7117e-05, -1.8446e-07,  0.0000e+00,  0.0000e+00,  0.0000e+00]]],\n",
            "\n",
            "\n",
            "        [[[ 3.0299e-03,  2.4878e-03,  2.4985e-03,  2.8950e-03,  1.7605e-03],\n",
            "          [ 2.7843e-03,  1.2508e-03,  1.5176e-03,  7.9517e-04, -3.1184e-05],\n",
            "          [ 1.0378e-03,  8.4203e-04,  1.2945e-03, -3.1455e-04, -5.0929e-04],\n",
            "          [ 4.2148e-04,  5.4943e-04,  5.3672e-04, -7.2006e-04, -1.5831e-03],\n",
            "          [ 4.2526e-04,  6.1882e-04,  2.3377e-04, -3.7958e-04, -1.3616e-03]]],\n",
            "\n",
            "\n",
            "        [[[-8.2168e-04, -7.2701e-04,  1.6286e-03,  1.0987e-03,  1.5887e-03],\n",
            "          [-1.5105e-03, -5.9850e-04,  1.7156e-04,  4.9817e-04,  8.1055e-04],\n",
            "          [-1.3649e-03, -4.1337e-04, -4.1839e-04, -7.0034e-04,  1.1646e-03],\n",
            "          [-1.4015e-03, -1.5164e-03, -7.6608e-04, -2.6024e-04,  1.6314e-03],\n",
            "          [-1.8393e-03, -1.2821e-03, -3.0855e-04,  1.5681e-04,  8.0034e-04]]]])\n"
          ]
        }
      ]
    },
    {
      "cell_type": "code",
      "source": [
        "print(network.conv1.weight.grad.shape)"
      ],
      "metadata": {
        "colab": {
          "base_uri": "https://localhost:8080/"
        },
        "id": "DpDqLJBt7NRJ",
        "outputId": "6ac27c47-19ce-4682-97bd-8fe244b2428e"
      },
      "execution_count": 33,
      "outputs": [
        {
          "output_type": "stream",
          "name": "stdout",
          "text": [
            "torch.Size([6, 1, 5, 5])\n"
          ]
        }
      ]
    },
    {
      "cell_type": "code",
      "source": [
        "optimizer = optim.Adam(network.parameters(), lr = 0.01)"
      ],
      "metadata": {
        "id": "Yqs7B8sk7XUu"
      },
      "execution_count": 34,
      "outputs": []
    },
    {
      "cell_type": "code",
      "source": [
        "def get_num_correct(preds, labels):\n",
        "  return preds.argmax(dim=1).eq(labels).sum().item()"
      ],
      "metadata": {
        "id": "I-CF9Jwz7poE"
      },
      "execution_count": 37,
      "outputs": []
    },
    {
      "cell_type": "code",
      "source": [
        "get_num_correct(preds, labels)"
      ],
      "metadata": {
        "colab": {
          "base_uri": "https://localhost:8080/"
        },
        "id": "Ly76MX-d72qw",
        "outputId": "e0458282-16e9-45d2-8bcd-ad2f892a2bf3"
      },
      "execution_count": 38,
      "outputs": [
        {
          "output_type": "execute_result",
          "data": {
            "text/plain": [
              "6"
            ]
          },
          "metadata": {},
          "execution_count": 38
        }
      ]
    },
    {
      "cell_type": "code",
      "source": [
        "loss.item(), get_num_correct(preds, labels)"
      ],
      "metadata": {
        "colab": {
          "base_uri": "https://localhost:8080/"
        },
        "id": "fRx78EK-7cfb",
        "outputId": "7e630426-f02c-48e2-93ba-01a0b0174b83"
      },
      "execution_count": 39,
      "outputs": [
        {
          "output_type": "execute_result",
          "data": {
            "text/plain": [
              "(2.2721619606018066, 6)"
            ]
          },
          "metadata": {},
          "execution_count": 39
        }
      ]
    },
    {
      "cell_type": "code",
      "source": [
        "optimizer.step()"
      ],
      "metadata": {
        "id": "mZDex4GN8BM6"
      },
      "execution_count": 40,
      "outputs": []
    },
    {
      "cell_type": "code",
      "source": [
        "preds = network(images)\n",
        "loss = F.cross_entropy(preds, labels)\n",
        "loss.item(), get_num_correct(preds, labels)"
      ],
      "metadata": {
        "colab": {
          "base_uri": "https://localhost:8080/"
        },
        "id": "XV649clP8FwF",
        "outputId": "dff593a3-1802-4f03-aa6c-02573430e319"
      },
      "execution_count": 41,
      "outputs": [
        {
          "output_type": "execute_result",
          "data": {
            "text/plain": [
              "(2.2408270835876465, 4)"
            ]
          },
          "metadata": {},
          "execution_count": 41
        }
      ]
    },
    {
      "cell_type": "code",
      "source": [
        "loss.backward()\n",
        "optimizer.step()\n",
        "preds = network(images)\n",
        "loss = F.cross_entropy(preds, labels)\n",
        "loss.item(), get_num_correct(preds, labels)"
      ],
      "metadata": {
        "colab": {
          "base_uri": "https://localhost:8080/"
        },
        "id": "ov5logap8LCC",
        "outputId": "eafaa7ad-0de2-4f6e-c80a-dd37362b727d"
      },
      "execution_count": 42,
      "outputs": [
        {
          "output_type": "execute_result",
          "data": {
            "text/plain": [
              "(2.302654981613159, 10)"
            ]
          },
          "metadata": {},
          "execution_count": 42
        }
      ]
    },
    {
      "cell_type": "code",
      "source": [
        "train_loader = torch.utils.data.DataLoader(train_set, batch_size=100)\n",
        "optimizer = optim.Adam(network.parameters(), lr=0.01)\n",
        "\n",
        "for epoch in range(20):\n",
        "\n",
        "    total_loss = 0\n",
        "    total_correct = 0\n",
        "\n",
        "    for batch in train_loader: # Get Batch\n",
        "        images, labels = batch \n",
        "\n",
        "        preds = network(images) # Pass Batch\n",
        "        loss = F.cross_entropy(preds, labels) # Calculate Loss\n",
        "\n",
        "        optimizer.zero_grad()\n",
        "        loss.backward() # Calculate Gradients\n",
        "        optimizer.step() # Update Weights\n",
        "\n",
        "        total_loss += loss.item()\n",
        "        total_correct += get_num_correct(preds, labels)\n",
        "\n",
        "    print(\n",
        "        \"epoch\", epoch, \n",
        "        \"total_correct:\", total_correct, \n",
        "        \"loss:\", total_loss\n",
        "    )"
      ],
      "metadata": {
        "colab": {
          "base_uri": "https://localhost:8080/"
        },
        "id": "wBgXZFhW8eeO",
        "outputId": "cd8a3a77-06f0-479d-d253-c94fa4e4ea28"
      },
      "execution_count": 43,
      "outputs": [
        {
          "output_type": "stream",
          "name": "stdout",
          "text": [
            "epoch 0 total_correct: 53766 loss: 189.49780234636273\n",
            "epoch 1 total_correct: 58289 loss: 57.67263004957931\n",
            "epoch 2 total_correct: 58512 loss: 50.69084549121908\n",
            "epoch 3 total_correct: 58603 loss: 48.99822714179754\n",
            "epoch 4 total_correct: 58605 loss: 47.695390904613305\n",
            "epoch 5 total_correct: 58708 loss: 44.82102935714647\n",
            "epoch 6 total_correct: 58785 loss: 42.80060210432566\n",
            "epoch 7 total_correct: 58866 loss: 40.40215168945724\n",
            "epoch 8 total_correct: 58839 loss: 42.912061196533614\n",
            "epoch 9 total_correct: 58776 loss: 43.99984609942476\n",
            "epoch 10 total_correct: 58978 loss: 36.73586689068907\n",
            "epoch 11 total_correct: 58838 loss: 45.01075228337504\n",
            "epoch 12 total_correct: 59025 loss: 35.61213501441671\n",
            "epoch 13 total_correct: 58995 loss: 39.607918011402944\n",
            "epoch 14 total_correct: 59065 loss: 35.60691927174594\n",
            "epoch 15 total_correct: 58992 loss: 39.332438720184655\n",
            "epoch 16 total_correct: 59029 loss: 38.833869176760345\n",
            "epoch 17 total_correct: 59135 loss: 34.11102283110449\n",
            "epoch 18 total_correct: 59135 loss: 33.688173306429235\n",
            "epoch 19 total_correct: 58994 loss: 39.46139903889798\n"
          ]
        }
      ]
    },
    {
      "cell_type": "code",
      "source": [],
      "metadata": {
        "id": "cxswFOUhDVSA"
      },
      "execution_count": null,
      "outputs": []
    },
    {
      "cell_type": "code",
      "source": [
        "class MNISTNet(nn.Module):\n",
        "\n",
        "  def init(self):\n",
        "\n",
        "    super(MNISTNet, self).init()\n",
        "          # define the layers of the neural network\n",
        "    \n",
        "    self.conv1 = nn.Conv2d(1, 32, kernel_size=5, stride=1, padding=2)\n",
        "    self.conv2 = nn.Conv2d(32, 64, kernel_size=5, stride=1, padding=2)\n",
        "    \n",
        "    self.fc1 = nn.Linear(7 * 7 * 64, 1024)\n",
        "    self.fc2 = nn.Linear(1024, 10)\n",
        "    self.fc3 = nn.Linear(10, 1)\n",
        "\n",
        "  def forward(self, x, y):\n",
        "          # pass the input image through the convolutional layers\n",
        "    x = F.relu(self.conv1(x))\n",
        "\n",
        "    x = F.max_pool2d(x, kernel_size=2, stride=2)\n",
        "    x = F.relu(self.conv2(x))\n",
        "    x = F.max_pool2d(x, kernel_size=2, stride=2)\n",
        "    x = x.view(-1, 7 * 7 * 64)\n",
        "    x = F.relu(self.fc1(x))\n",
        "    \n",
        "    # pass the input number through the fully connected layers\n",
        "    y = self.fc2(y)\n",
        "    y = self.fc3(y)\n",
        "    # sum the output of the two branches\n",
        "    z = x + y\n",
        "    return z"
      ],
      "metadata": {
        "id": "6k2jXtl02A-q"
      },
      "execution_count": 44,
      "outputs": []
    },
    {
      "cell_type": "code",
      "source": [
        "model = MNISTNet()"
      ],
      "metadata": {
        "id": "QthFdZV27-eo"
      },
      "execution_count": 45,
      "outputs": []
    },
    {
      "cell_type": "code",
      "source": [
        "input_image = torch.randn(1, 1, 28, 28) # MNIST image with dimensions (batch size, channels, width, height)\n",
        "input_number = torch.randn(1, 1) # random number with dimensions (batch size, num_classes)"
      ],
      "metadata": {
        "id": "XvSJFTn28ea8"
      },
      "execution_count": 46,
      "outputs": []
    },
    {
      "cell_type": "code",
      "source": [
        "output = model(input_image, input_number)"
      ],
      "metadata": {
        "colab": {
          "base_uri": "https://localhost:8080/",
          "height": 311
        },
        "id": "z0Cc0hUQ8iKQ",
        "outputId": "86cecbff-ae22-4875-efb8-d69d250c35fb"
      },
      "execution_count": 47,
      "outputs": [
        {
          "output_type": "error",
          "ename": "AttributeError",
          "evalue": "ignored",
          "traceback": [
            "\u001b[0;31m---------------------------------------------------------------------------\u001b[0m",
            "\u001b[0;31mAttributeError\u001b[0m                            Traceback (most recent call last)",
            "\u001b[0;32m<ipython-input-47-44efa642c223>\u001b[0m in \u001b[0;36m<module>\u001b[0;34m\u001b[0m\n\u001b[0;32m----> 1\u001b[0;31m \u001b[0moutput\u001b[0m \u001b[0;34m=\u001b[0m \u001b[0mmodel\u001b[0m\u001b[0;34m(\u001b[0m\u001b[0minput_image\u001b[0m\u001b[0;34m,\u001b[0m \u001b[0minput_number\u001b[0m\u001b[0;34m)\u001b[0m\u001b[0;34m\u001b[0m\u001b[0;34m\u001b[0m\u001b[0m\n\u001b[0m",
            "\u001b[0;32m/usr/local/lib/python3.8/dist-packages/torch/nn/modules/module.py\u001b[0m in \u001b[0;36m_call_impl\u001b[0;34m(self, *input, **kwargs)\u001b[0m\n\u001b[1;32m   1188\u001b[0m         if not (self._backward_hooks or self._forward_hooks or self._forward_pre_hooks or _global_backward_hooks\n\u001b[1;32m   1189\u001b[0m                 or _global_forward_hooks or _global_forward_pre_hooks):\n\u001b[0;32m-> 1190\u001b[0;31m             \u001b[0;32mreturn\u001b[0m \u001b[0mforward_call\u001b[0m\u001b[0;34m(\u001b[0m\u001b[0;34m*\u001b[0m\u001b[0minput\u001b[0m\u001b[0;34m,\u001b[0m \u001b[0;34m**\u001b[0m\u001b[0mkwargs\u001b[0m\u001b[0;34m)\u001b[0m\u001b[0;34m\u001b[0m\u001b[0;34m\u001b[0m\u001b[0m\n\u001b[0m\u001b[1;32m   1191\u001b[0m         \u001b[0;31m# Do not call functions when jit is used\u001b[0m\u001b[0;34m\u001b[0m\u001b[0;34m\u001b[0m\u001b[0;34m\u001b[0m\u001b[0m\n\u001b[1;32m   1192\u001b[0m         \u001b[0mfull_backward_hooks\u001b[0m\u001b[0;34m,\u001b[0m \u001b[0mnon_full_backward_hooks\u001b[0m \u001b[0;34m=\u001b[0m \u001b[0;34m[\u001b[0m\u001b[0;34m]\u001b[0m\u001b[0;34m,\u001b[0m \u001b[0;34m[\u001b[0m\u001b[0;34m]\u001b[0m\u001b[0;34m\u001b[0m\u001b[0;34m\u001b[0m\u001b[0m\n",
            "\u001b[0;32m<ipython-input-44-f1126dc6c28e>\u001b[0m in \u001b[0;36mforward\u001b[0;34m(self, x, y)\u001b[0m\n\u001b[1;32m     13\u001b[0m   \u001b[0;32mdef\u001b[0m \u001b[0mforward\u001b[0m\u001b[0;34m(\u001b[0m\u001b[0mself\u001b[0m\u001b[0;34m,\u001b[0m \u001b[0mx\u001b[0m\u001b[0;34m,\u001b[0m \u001b[0my\u001b[0m\u001b[0;34m)\u001b[0m\u001b[0;34m:\u001b[0m\u001b[0;34m\u001b[0m\u001b[0;34m\u001b[0m\u001b[0m\n\u001b[1;32m     14\u001b[0m \u001b[0;31m# pass the input image through the convolutional layers\u001b[0m\u001b[0;34m\u001b[0m\u001b[0;34m\u001b[0m\u001b[0;34m\u001b[0m\u001b[0m\n\u001b[0;32m---> 15\u001b[0;31m     \u001b[0mx\u001b[0m \u001b[0;34m=\u001b[0m \u001b[0mF\u001b[0m\u001b[0;34m.\u001b[0m\u001b[0mrelu\u001b[0m\u001b[0;34m(\u001b[0m\u001b[0mself\u001b[0m\u001b[0;34m.\u001b[0m\u001b[0mconv1\u001b[0m\u001b[0;34m(\u001b[0m\u001b[0mx\u001b[0m\u001b[0;34m)\u001b[0m\u001b[0;34m)\u001b[0m\u001b[0;34m\u001b[0m\u001b[0;34m\u001b[0m\u001b[0m\n\u001b[0m\u001b[1;32m     16\u001b[0m \u001b[0;34m\u001b[0m\u001b[0m\n\u001b[1;32m     17\u001b[0m     \u001b[0mx\u001b[0m \u001b[0;34m=\u001b[0m \u001b[0mF\u001b[0m\u001b[0;34m.\u001b[0m\u001b[0mmax_pool2d\u001b[0m\u001b[0;34m(\u001b[0m\u001b[0mx\u001b[0m\u001b[0;34m,\u001b[0m \u001b[0mkernel_size\u001b[0m\u001b[0;34m=\u001b[0m\u001b[0;36m2\u001b[0m\u001b[0;34m,\u001b[0m \u001b[0mstride\u001b[0m\u001b[0;34m=\u001b[0m\u001b[0;36m2\u001b[0m\u001b[0;34m)\u001b[0m\u001b[0;34m\u001b[0m\u001b[0;34m\u001b[0m\u001b[0m\n",
            "\u001b[0;32m/usr/local/lib/python3.8/dist-packages/torch/nn/modules/module.py\u001b[0m in \u001b[0;36m__getattr__\u001b[0;34m(self, name)\u001b[0m\n\u001b[1;32m   1263\u001b[0m             \u001b[0;32mif\u001b[0m \u001b[0mname\u001b[0m \u001b[0;32min\u001b[0m \u001b[0mmodules\u001b[0m\u001b[0;34m:\u001b[0m\u001b[0;34m\u001b[0m\u001b[0;34m\u001b[0m\u001b[0m\n\u001b[1;32m   1264\u001b[0m                 \u001b[0;32mreturn\u001b[0m \u001b[0mmodules\u001b[0m\u001b[0;34m[\u001b[0m\u001b[0mname\u001b[0m\u001b[0;34m]\u001b[0m\u001b[0;34m\u001b[0m\u001b[0;34m\u001b[0m\u001b[0m\n\u001b[0;32m-> 1265\u001b[0;31m         raise AttributeError(\"'{}' object has no attribute '{}'\".format(\n\u001b[0m\u001b[1;32m   1266\u001b[0m             type(self).__name__, name))\n\u001b[1;32m   1267\u001b[0m \u001b[0;34m\u001b[0m\u001b[0m\n",
            "\u001b[0;31mAttributeError\u001b[0m: 'MNISTNet' object has no attribute 'conv1'"
          ]
        }
      ]
    },
    {
      "cell_type": "code",
      "source": [
        "print (output)"
      ],
      "metadata": {
        "id": "TEkKuTSc8lil"
      },
      "execution_count": null,
      "outputs": []
    },
    {
      "cell_type": "code",
      "source": [
        "input_number = torch.randn(1, 1) # random number with dimensions (batch size, num_classes)"
      ],
      "metadata": {
        "id": "uk-QpYZA9aY7"
      },
      "execution_count": null,
      "outputs": []
    },
    {
      "cell_type": "code",
      "source": [
        "print (input_number)"
      ],
      "metadata": {
        "colab": {
          "base_uri": "https://localhost:8080/"
        },
        "id": "jBp1BvUE94QY",
        "outputId": "da8fc171-8433-460f-c3bb-a2ae24ff12ef"
      },
      "execution_count": null,
      "outputs": [
        {
          "output_type": "stream",
          "name": "stdout",
          "text": [
            "tensor([[1.1222]])\n"
          ]
        }
      ]
    },
    {
      "cell_type": "code",
      "source": [
        "print (input_image)"
      ],
      "metadata": {
        "colab": {
          "base_uri": "https://localhost:8080/"
        },
        "id": "_mYZarvz9bnY",
        "outputId": "601b059c-6493-4c3c-9df4-a2e0c89334a6"
      },
      "execution_count": null,
      "outputs": [
        {
          "output_type": "stream",
          "name": "stdout",
          "text": [
            "tensor([[[[-1.6628e-01,  1.2619e+00, -1.0828e+00, -3.2691e-01,  6.8707e-01,  5.5849e-02, -3.2034e-01, -5.7010e-01,\n",
            "            1.2008e+00, -4.1766e-01,  1.1942e+00,  1.2118e+00,  1.2522e-01, -4.3556e-01,  5.0421e-01, -1.1671e+00,\n",
            "            2.5955e+00,  6.6674e-01, -4.7344e-01,  1.7337e+00,  6.4969e-01,  3.3385e-01,  7.8198e-01, -6.4875e-01,\n",
            "            3.9315e-01,  2.6649e+00,  7.8425e-01,  1.3291e+00],\n",
            "          [-6.3201e-01, -1.8810e+00,  1.8805e-01,  7.1287e-01,  8.0070e-01, -1.8178e+00, -1.9385e+00, -2.7153e-02,\n",
            "           -1.5864e+00,  1.1733e+00,  1.3028e+00,  1.7142e+00, -1.6100e+00, -8.7452e-01,  2.0733e-01,  2.2899e-01,\n",
            "            1.4962e+00,  4.6659e-01,  3.9051e-01, -1.1680e+00, -6.8282e-01,  7.5491e-01, -1.2702e+00,  1.7654e-02,\n",
            "           -6.6204e-01, -1.2491e+00, -6.1608e-01, -1.3048e+00],\n",
            "          [-5.8287e-01, -1.4265e+00,  1.0087e+00,  2.2020e-01, -3.9719e-01,  8.2037e-01,  1.4911e-02,  9.6761e-01,\n",
            "           -2.1422e+00, -5.4102e-02,  1.6768e+00, -8.4577e-01, -1.1016e+00, -1.7437e-01, -1.1331e+00, -1.4887e+00,\n",
            "           -4.9080e-01, -2.2868e-01,  1.2380e+00, -5.1653e-03,  6.9914e-02,  2.7908e-01, -1.8586e-01, -5.7902e-02,\n",
            "            8.0520e-01, -5.0362e-01,  7.5275e-01,  6.8258e-01],\n",
            "          [ 1.4773e-01, -3.1377e-01,  1.6153e+00, -1.9731e-01, -6.7322e-01,  2.3579e-01,  7.1405e-01,  2.8084e-01,\n",
            "            7.2551e-01, -2.1268e+00, -5.6564e-01,  9.2429e-01,  1.7500e+00, -1.1180e+00,  1.1295e+00, -1.7976e-01,\n",
            "           -6.4516e-01,  1.7776e+00, -3.0071e-01, -8.9064e-02,  6.8122e-01, -3.1336e-02, -1.2782e+00,  1.0174e+00,\n",
            "            1.4675e+00,  1.4479e+00, -5.2344e-01,  1.1309e+00],\n",
            "          [-1.4993e+00,  3.3235e-01,  5.9006e-01, -3.3176e-01, -9.2724e-01, -3.6353e-01, -5.6976e-01, -1.5077e+00,\n",
            "           -1.4513e+00, -1.8739e-01, -1.2035e-01, -9.2471e-01,  9.8498e-01,  3.6710e-01,  2.5085e+00, -1.7456e-01,\n",
            "           -5.4619e-01,  1.2704e-01, -7.1643e-01,  1.7138e+00, -1.0081e+00, -1.7049e-01, -2.1001e-01, -2.6301e-01,\n",
            "           -1.2633e+00, -5.0457e-01,  3.3635e-01,  4.3734e-01],\n",
            "          [ 4.8571e-01,  4.8813e-01, -4.7518e-01, -1.6593e+00, -8.3177e-01,  3.8015e-01,  6.2840e-01, -1.3242e+00,\n",
            "            7.9686e-01,  5.0282e-01,  1.0910e-01,  3.8629e-01,  1.6821e+00, -4.3107e-01,  1.0382e+00,  9.8337e-01,\n",
            "           -3.4772e-01,  1.1548e+00,  2.8563e-01,  3.2902e-02, -6.9741e-01,  2.0071e-01,  2.5516e-01, -9.2475e-01,\n",
            "            2.7320e-01, -1.2879e+00, -9.3643e-01, -1.8402e-01],\n",
            "          [ 6.6632e-01, -1.4158e+00, -2.5049e-01,  9.8003e-02,  9.4911e-01,  5.2423e-01,  8.0667e-01, -7.2791e-02,\n",
            "           -1.5262e+00, -6.3416e-01,  3.5759e-02,  1.4355e-01, -2.0083e+00,  1.0981e-01, -7.8442e-01, -2.9406e-01,\n",
            "            2.1276e-01,  9.2819e-01,  2.3686e-01, -1.1917e+00, -3.1050e-01,  1.6881e+00, -3.6640e-01, -4.3297e-01,\n",
            "            6.8948e-01, -4.3115e-01, -6.1843e-02,  1.2989e-01],\n",
            "          [-1.0371e+00, -4.8351e-01, -5.6715e-01,  1.0944e-01, -6.8828e-01,  3.1827e-01,  1.0934e+00, -6.3756e-01,\n",
            "           -8.2883e-01, -1.3055e+00, -1.2328e+00, -7.0315e-01,  8.1056e-01,  2.0708e+00,  1.6634e+00,  1.2651e+00,\n",
            "            1.5702e+00,  9.6832e-01,  2.0600e-01, -1.9201e-01, -1.7723e+00,  9.1167e-01,  1.3119e+00,  3.0035e-01,\n",
            "            1.4034e+00, -1.9717e-01,  2.1295e-03,  1.3118e-02],\n",
            "          [-5.7765e-01,  5.9317e-01, -8.4029e-01,  1.1936e+00, -1.1366e+00,  1.3339e+00,  1.6865e+00,  1.7945e-03,\n",
            "           -8.4900e-01, -6.0745e-01, -1.6856e+00, -3.3094e-01,  1.1105e+00, -1.0851e-02,  9.6023e-01, -6.4430e-01,\n",
            "            8.1838e-01,  1.1482e+00, -5.8813e-01,  5.3195e-01,  2.0179e+00, -1.3704e+00, -6.2752e-02,  1.1272e-01,\n",
            "            6.8975e-02,  1.7044e+00,  7.4041e-01,  5.7393e-01],\n",
            "          [-2.1610e-01,  1.1083e+00,  9.1820e-01, -1.8860e-01, -6.2406e-01,  1.3096e+00, -1.3338e-01,  6.9050e-01,\n",
            "            1.0544e+00, -5.2639e-01, -1.5292e-01,  2.0849e-01,  1.1619e+00,  8.3087e-01, -7.3395e-01,  8.2401e-01,\n",
            "           -1.0163e+00, -5.2064e-01,  2.8181e-01,  4.2846e-01,  6.0938e-01, -1.1034e+00, -1.7905e+00, -3.0704e-01,\n",
            "            6.6171e-01, -8.1020e-01, -2.2983e-01, -1.5109e-01],\n",
            "          [-1.8591e+00,  1.2885e+00,  4.7817e-01, -4.6034e-01, -1.0183e+00,  1.2155e+00, -1.6173e+00, -2.0089e+00,\n",
            "           -1.9985e-01, -2.5632e-01,  1.2615e+00, -8.4835e-01, -5.7123e-02, -1.3273e+00,  3.9834e-01, -1.6593e+00,\n",
            "            4.5077e-01,  1.5576e+00, -4.1255e-01, -5.8424e-02, -4.4273e-01,  8.1103e-01,  4.2387e-01, -3.0031e-01,\n",
            "           -1.2803e+00, -1.6112e+00,  5.2592e-02, -7.2067e-03],\n",
            "          [ 8.6797e-02, -3.4686e-01, -1.4011e+00, -4.5184e-02, -6.9745e-01, -1.3693e-02, -6.4072e-01, -6.3366e-01,\n",
            "           -2.0611e-01, -1.3095e+00, -2.9226e-01,  2.1820e+00, -8.7982e-02, -1.5713e-01, -1.1592e+00, -1.6548e+00,\n",
            "            4.6534e-01, -1.1394e+00, -2.5088e+00,  6.1237e-01, -2.1314e-01, -5.2526e-01,  1.7738e+00, -1.2134e+00,\n",
            "           -5.2969e-01, -6.6397e-01, -1.2071e+00, -5.5324e-01],\n",
            "          [-1.4186e-01,  1.0177e+00,  5.4658e-01, -2.1663e-01,  7.1853e-01,  2.5274e-01,  8.8688e-02,  4.7439e-01,\n",
            "           -1.0016e+00,  7.2700e-01, -4.0889e-01,  1.7730e-01,  9.4965e-01, -1.6172e+00, -8.0098e-01, -3.3839e-01,\n",
            "           -1.4703e+00,  6.2781e-01,  3.7184e-02, -1.2520e+00, -2.3100e-02, -2.9131e-01, -2.8041e-01, -2.9404e+00,\n",
            "            2.0090e-01,  1.5576e+00,  3.3725e-01, -2.1467e+00],\n",
            "          [ 1.1595e+00, -1.4639e+00, -4.6015e-02,  8.9722e-02, -1.9306e+00,  3.3583e-01,  1.0257e+00,  1.2599e-01,\n",
            "           -2.2889e+00,  1.5659e-01, -1.7165e+00,  7.3776e-01, -1.0618e-01,  2.8593e-01,  2.3313e-01, -5.4520e-03,\n",
            "            6.0133e-01,  8.5519e-01,  3.5761e-01,  3.7833e-01, -1.2987e+00,  6.0277e-01, -1.1290e+00, -1.6099e+00,\n",
            "            2.1701e+00, -7.7183e-01,  3.5705e-01,  1.8570e-01],\n",
            "          [-2.4224e+00,  1.1654e+00,  4.8317e-01, -4.0878e-01,  1.1090e+00, -2.4102e+00,  1.3803e+00, -6.0405e-01,\n",
            "            3.3177e-01, -3.2262e-01,  7.7844e-01,  8.1117e-01, -3.2086e-01, -2.1154e+00, -1.2382e+00, -4.6767e-01,\n",
            "           -5.3881e-01, -8.1314e-01, -3.3271e-01, -2.3264e+00,  9.0084e-02, -3.4757e-02,  1.0846e+00, -1.0170e+00,\n",
            "           -3.0359e-01, -1.7175e+00, -1.3204e+00,  2.2374e+00],\n",
            "          [ 5.9579e-01, -1.4380e+00, -8.8595e-01,  2.8474e-01, -9.8895e-01,  7.0787e-01,  3.7725e-01,  2.7239e-01,\n",
            "           -5.0886e-01,  2.4294e+00, -9.9865e-01,  1.6761e+00,  1.8574e-01, -1.2873e+00,  1.3248e+00, -2.4294e-01,\n",
            "            8.4193e-01, -1.3739e-01,  8.1664e-01,  1.3477e+00,  1.8614e+00, -1.6759e+00, -2.6098e-01,  5.6389e-01,\n",
            "            1.3139e+00,  1.1149e+00, -2.1375e-01, -7.2504e-01],\n",
            "          [ 7.4646e-01,  1.1083e+00,  6.0872e-01, -9.2369e-02, -6.9854e-02, -6.1559e-01, -1.2374e+00, -2.7918e-01,\n",
            "           -2.5083e-01,  7.2243e-01,  4.8571e-01,  4.4268e-01,  7.1819e-01, -7.8503e-01, -9.0484e-01, -6.2301e-01,\n",
            "            3.4309e-01, -3.5015e-01,  5.0911e-01, -2.7530e+00, -7.9372e-01, -2.3416e-01,  4.2204e-01, -7.9982e-01,\n",
            "            5.1888e-01,  2.3720e-01, -4.6959e-02,  3.5926e-01],\n",
            "          [ 1.0472e-01, -1.4371e+00,  1.2638e-01, -4.6060e-01, -5.4163e-02, -2.5492e+00,  6.8181e-01, -1.7229e+00,\n",
            "           -1.4438e+00, -1.1004e+00, -2.6271e-01, -1.7414e+00,  6.9243e-01, -1.3398e+00,  8.7063e-01,  9.9821e-01,\n",
            "           -1.2357e+00,  9.2456e-01, -1.5421e+00,  4.1777e-01,  4.2093e-01,  8.2647e-01,  7.3073e-01, -4.0149e-01,\n",
            "            6.7460e-01, -8.5708e-01,  5.1190e-01,  3.2932e-01],\n",
            "          [ 8.5587e-02,  1.5547e-01, -2.4145e+00, -1.0085e-01,  1.6451e+00, -1.2397e+00,  1.3304e-01,  6.5488e-01,\n",
            "           -1.3146e+00,  1.8268e+00,  5.9530e-01, -1.4902e+00,  1.1486e+00,  2.7155e-01,  8.3510e-01, -3.0040e-01,\n",
            "            1.3704e+00, -1.4375e+00, -9.4135e-01,  2.0269e+00, -3.6986e-02, -2.7758e-01,  3.4319e-01, -9.9880e-01,\n",
            "           -1.9559e-02, -4.2340e-01, -2.3382e-01,  4.8916e-01],\n",
            "          [ 1.6875e-01,  4.0100e-01,  9.9061e-01,  3.6098e-01, -9.1081e-01,  2.8606e-01, -1.2095e+00,  2.3801e+00,\n",
            "            8.2946e-01, -1.3921e+00,  8.1204e-01,  1.6937e-01, -8.8276e-01, -8.4802e-01,  2.7982e-01, -2.1936e-01,\n",
            "           -3.6570e-01,  6.8833e-01,  1.3478e-01, -7.4166e-01,  7.0880e-01, -8.1342e-01, -2.2220e-01, -2.5638e-01,\n",
            "            3.4924e-01,  1.5792e+00,  3.4741e-01,  2.3973e-01],\n",
            "          [ 6.3472e-01,  1.5456e+00, -1.6485e+00,  3.1446e-01,  2.2380e-01, -1.7363e+00,  8.0211e-01, -1.1689e-01,\n",
            "            1.3349e-01,  6.9225e-02,  1.4333e+00,  2.9970e-01, -9.0910e-01,  9.0477e-01, -1.9993e-01, -6.7737e-02,\n",
            "            4.8642e-01,  6.2881e-01, -1.9655e-01, -4.0022e-01, -8.9564e-01, -1.1627e+00,  1.1624e-01, -2.4518e+00,\n",
            "           -9.8066e-01, -1.2254e+00, -6.0696e-02,  1.7627e-01],\n",
            "          [ 1.1762e-01, -2.7499e-01, -9.7169e-01,  1.1627e+00,  7.2162e-01, -3.7517e-02,  2.9925e-01, -3.9009e-01,\n",
            "            3.8638e-01,  1.1306e+00,  7.8705e-01, -1.0654e+00,  3.6847e-01,  3.8958e-01,  1.9058e+00,  2.8477e-01,\n",
            "            1.7232e+00,  2.0611e-01,  7.5977e-02, -9.3513e-01,  9.9286e-01,  1.4062e+00,  4.1425e-01,  1.2674e-01,\n",
            "            5.1558e-01,  5.2120e-01,  5.4654e-01, -2.7703e-02],\n",
            "          [-9.0109e-01, -2.3147e+00,  1.2259e+00,  2.5380e+00,  3.4943e-01,  3.3688e-01, -9.7886e-02, -5.8402e-01,\n",
            "            3.1333e-01,  8.7577e-01,  2.0028e+00, -1.1703e-01, -1.5659e-01, -5.9520e-01,  5.1026e-01, -7.1153e-01,\n",
            "            1.3517e-01, -1.9023e+00,  1.2474e+00, -6.2610e-01,  2.9516e-01, -6.6416e-01, -1.0770e-01,  1.1426e+00,\n",
            "           -2.6329e-02, -4.1399e-01,  7.9262e-01, -2.0064e-01],\n",
            "          [-2.0123e+00,  1.7876e-02, -1.9004e-01, -4.3301e-02,  7.5686e-01, -1.1754e-01,  1.4450e+00, -1.2004e+00,\n",
            "           -7.1652e-03, -1.1991e+00,  3.7672e-02, -9.7900e-01, -1.5280e+00, -6.5437e-01,  1.3845e+00, -9.9027e-01,\n",
            "            3.5168e-01,  1.1744e+00, -9.0423e-01,  1.0896e+00, -1.2083e+00,  1.9617e+00, -4.3758e-02, -6.3074e-01,\n",
            "            5.8979e-01, -1.1863e+00,  1.6266e-02,  1.3353e+00],\n",
            "          [ 1.7773e+00,  1.1872e-01, -4.8757e-02, -2.8695e-01, -1.2337e+00,  1.7198e+00, -5.0936e-01, -5.9691e-01,\n",
            "           -3.3759e-01,  1.8421e-01, -5.5308e-01,  4.5109e-01,  3.0684e-01,  8.3006e-01,  3.6695e-02,  7.9026e-02,\n",
            "            4.6047e-01,  8.3386e-01, -6.6968e-01, -8.7902e-01,  5.6670e-04, -9.4028e-01,  1.9539e+00, -1.4699e+00,\n",
            "           -1.8870e+00,  2.9072e-01,  8.4697e-01, -2.0201e+00],\n",
            "          [ 1.7518e+00,  3.8968e-01,  2.0171e-01,  1.4142e+00, -9.0661e-01, -9.3608e-01, -1.7240e+00,  8.2592e-01,\n",
            "           -3.2634e-01, -1.6155e+00, -1.4883e+00, -1.7262e-01, -3.4117e-01, -9.8478e-01,  1.8178e+00, -1.1462e+00,\n",
            "            7.4599e-01, -5.3428e-01, -2.2158e-01, -1.9961e-01,  4.3374e-01, -3.3229e-01, -6.3752e-01, -1.7017e+00,\n",
            "           -1.3386e+00, -2.8441e-01,  1.3877e+00,  9.7520e-01],\n",
            "          [ 5.8576e-02,  1.1923e-01,  8.6157e-01,  6.0567e-01,  6.5522e-01, -6.3714e-01,  4.9755e-01, -2.2684e+00,\n",
            "           -1.0704e+00, -2.2024e-01,  2.8959e-01, -1.5106e-01,  5.6365e-01,  9.3680e-01, -3.6766e-01,  1.5697e+00,\n",
            "           -1.0265e-01,  5.2477e-01,  7.5014e-01, -4.8004e-01,  4.9261e-01,  3.9697e-01,  2.1908e-01,  9.6098e-01,\n",
            "            2.4944e-01,  4.6985e-02,  8.8175e-01, -1.5515e+00],\n",
            "          [ 1.8590e+00,  6.9865e-01,  8.8713e-02,  1.0183e-01, -1.0953e+00, -1.3437e+00,  9.7107e-01,  6.0419e-01,\n",
            "            3.1499e+00, -1.7018e-02,  3.0517e-01, -8.2425e-01, -2.8371e-01, -4.3737e-01, -2.4037e-01, -1.2259e+00,\n",
            "            1.5281e-01, -2.7133e-01, -1.9122e+00,  4.2806e-01, -5.5417e-01,  4.3501e-01, -1.5270e-01,  9.3617e-02,\n",
            "           -8.8498e-02, -2.9649e-01,  5.1044e-01, -7.6470e-01]]]])\n"
          ]
        }
      ]
    }
  ]
}