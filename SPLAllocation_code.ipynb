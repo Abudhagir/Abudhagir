{
  "cells": [
    {
      "cell_type": "markdown",
      "metadata": {
        "id": "view-in-github",
        "colab_type": "text"
      },
      "source": [
        "<a href=\"https://colab.research.google.com/github/Abudhagir/Abudhagir/blob/main/SPLAllocation_code.ipynb\" target=\"_parent\"><img src=\"https://colab.research.google.com/assets/colab-badge.svg\" alt=\"Open In Colab\"/></a>"
      ]
    },
    {
      "cell_type": "code",
      "execution_count": 1,
      "id": "76e00f22",
      "metadata": {
        "id": "76e00f22"
      },
      "outputs": [],
      "source": [
        "import numpy as np\n",
        "import pandas as pd"
      ]
    },
    {
      "cell_type": "code",
      "execution_count": 2,
      "id": "a2201c73",
      "metadata": {
        "id": "a2201c73",
        "outputId": "60a0acb6-e2fd-4087-aed8-7110341b63de",
        "colab": {
          "base_uri": "https://localhost:8080/",
          "height": 345
        }
      },
      "outputs": [
        {
          "output_type": "error",
          "ename": "FileNotFoundError",
          "evalue": "ignored",
          "traceback": [
            "\u001b[0;31m---------------------------------------------------------------------------\u001b[0m",
            "\u001b[0;31mFileNotFoundError\u001b[0m                         Traceback (most recent call last)",
            "\u001b[0;32m<ipython-input-2-897565a8cf54>\u001b[0m in \u001b[0;36m<module>\u001b[0;34m\u001b[0m\n\u001b[0;32m----> 1\u001b[0;31m \u001b[0mdf\u001b[0m \u001b[0;34m=\u001b[0m \u001b[0mpd\u001b[0m\u001b[0;34m.\u001b[0m\u001b[0mread_excel\u001b[0m\u001b[0;34m(\u001b[0m\u001b[0;34m'SPL Data.xlsx'\u001b[0m\u001b[0;34m)\u001b[0m\u001b[0;34m\u001b[0m\u001b[0;34m\u001b[0m\u001b[0m\n\u001b[0m\u001b[1;32m      2\u001b[0m \u001b[0;31m# df.head()\u001b[0m\u001b[0;34m\u001b[0m\u001b[0;34m\u001b[0m\u001b[0;34m\u001b[0m\u001b[0m\n\u001b[1;32m      3\u001b[0m \u001b[0mprint\u001b[0m\u001b[0;34m(\u001b[0m\u001b[0mdf\u001b[0m\u001b[0;34m.\u001b[0m\u001b[0mshape\u001b[0m\u001b[0;34m)\u001b[0m\u001b[0;34m\u001b[0m\u001b[0;34m\u001b[0m\u001b[0m\n",
            "\u001b[0;32m/usr/local/lib/python3.8/dist-packages/pandas/util/_decorators.py\u001b[0m in \u001b[0;36mwrapper\u001b[0;34m(*args, **kwargs)\u001b[0m\n\u001b[1;32m    309\u001b[0m                     \u001b[0mstacklevel\u001b[0m\u001b[0;34m=\u001b[0m\u001b[0mstacklevel\u001b[0m\u001b[0;34m,\u001b[0m\u001b[0;34m\u001b[0m\u001b[0;34m\u001b[0m\u001b[0m\n\u001b[1;32m    310\u001b[0m                 )\n\u001b[0;32m--> 311\u001b[0;31m             \u001b[0;32mreturn\u001b[0m \u001b[0mfunc\u001b[0m\u001b[0;34m(\u001b[0m\u001b[0;34m*\u001b[0m\u001b[0margs\u001b[0m\u001b[0;34m,\u001b[0m \u001b[0;34m**\u001b[0m\u001b[0mkwargs\u001b[0m\u001b[0;34m)\u001b[0m\u001b[0;34m\u001b[0m\u001b[0;34m\u001b[0m\u001b[0m\n\u001b[0m\u001b[1;32m    312\u001b[0m \u001b[0;34m\u001b[0m\u001b[0m\n\u001b[1;32m    313\u001b[0m         \u001b[0;32mreturn\u001b[0m \u001b[0mwrapper\u001b[0m\u001b[0;34m\u001b[0m\u001b[0;34m\u001b[0m\u001b[0m\n",
            "\u001b[0;32m/usr/local/lib/python3.8/dist-packages/pandas/io/excel/_base.py\u001b[0m in \u001b[0;36mread_excel\u001b[0;34m(io, sheet_name, header, names, index_col, usecols, squeeze, dtype, engine, converters, true_values, false_values, skiprows, nrows, na_values, keep_default_na, na_filter, verbose, parse_dates, date_parser, thousands, comment, skipfooter, convert_float, mangle_dupe_cols, storage_options)\u001b[0m\n\u001b[1;32m    362\u001b[0m     \u001b[0;32mif\u001b[0m \u001b[0;32mnot\u001b[0m \u001b[0misinstance\u001b[0m\u001b[0;34m(\u001b[0m\u001b[0mio\u001b[0m\u001b[0;34m,\u001b[0m \u001b[0mExcelFile\u001b[0m\u001b[0;34m)\u001b[0m\u001b[0;34m:\u001b[0m\u001b[0;34m\u001b[0m\u001b[0;34m\u001b[0m\u001b[0m\n\u001b[1;32m    363\u001b[0m         \u001b[0mshould_close\u001b[0m \u001b[0;34m=\u001b[0m \u001b[0;32mTrue\u001b[0m\u001b[0;34m\u001b[0m\u001b[0;34m\u001b[0m\u001b[0m\n\u001b[0;32m--> 364\u001b[0;31m         \u001b[0mio\u001b[0m \u001b[0;34m=\u001b[0m \u001b[0mExcelFile\u001b[0m\u001b[0;34m(\u001b[0m\u001b[0mio\u001b[0m\u001b[0;34m,\u001b[0m \u001b[0mstorage_options\u001b[0m\u001b[0;34m=\u001b[0m\u001b[0mstorage_options\u001b[0m\u001b[0;34m,\u001b[0m \u001b[0mengine\u001b[0m\u001b[0;34m=\u001b[0m\u001b[0mengine\u001b[0m\u001b[0;34m)\u001b[0m\u001b[0;34m\u001b[0m\u001b[0;34m\u001b[0m\u001b[0m\n\u001b[0m\u001b[1;32m    365\u001b[0m     \u001b[0;32melif\u001b[0m \u001b[0mengine\u001b[0m \u001b[0;32mand\u001b[0m \u001b[0mengine\u001b[0m \u001b[0;34m!=\u001b[0m \u001b[0mio\u001b[0m\u001b[0;34m.\u001b[0m\u001b[0mengine\u001b[0m\u001b[0;34m:\u001b[0m\u001b[0;34m\u001b[0m\u001b[0;34m\u001b[0m\u001b[0m\n\u001b[1;32m    366\u001b[0m         raise ValueError(\n",
            "\u001b[0;32m/usr/local/lib/python3.8/dist-packages/pandas/io/excel/_base.py\u001b[0m in \u001b[0;36m__init__\u001b[0;34m(self, path_or_buffer, engine, storage_options)\u001b[0m\n\u001b[1;32m   1189\u001b[0m                 \u001b[0mext\u001b[0m \u001b[0;34m=\u001b[0m \u001b[0;34m\"xls\"\u001b[0m\u001b[0;34m\u001b[0m\u001b[0;34m\u001b[0m\u001b[0m\n\u001b[1;32m   1190\u001b[0m             \u001b[0;32melse\u001b[0m\u001b[0;34m:\u001b[0m\u001b[0;34m\u001b[0m\u001b[0;34m\u001b[0m\u001b[0m\n\u001b[0;32m-> 1191\u001b[0;31m                 ext = inspect_excel_format(\n\u001b[0m\u001b[1;32m   1192\u001b[0m                     \u001b[0mcontent_or_path\u001b[0m\u001b[0;34m=\u001b[0m\u001b[0mpath_or_buffer\u001b[0m\u001b[0;34m,\u001b[0m \u001b[0mstorage_options\u001b[0m\u001b[0;34m=\u001b[0m\u001b[0mstorage_options\u001b[0m\u001b[0;34m\u001b[0m\u001b[0;34m\u001b[0m\u001b[0m\n\u001b[1;32m   1193\u001b[0m                 )\n",
            "\u001b[0;32m/usr/local/lib/python3.8/dist-packages/pandas/io/excel/_base.py\u001b[0m in \u001b[0;36minspect_excel_format\u001b[0;34m(content_or_path, storage_options)\u001b[0m\n\u001b[1;32m   1068\u001b[0m         \u001b[0mcontent_or_path\u001b[0m \u001b[0;34m=\u001b[0m \u001b[0mBytesIO\u001b[0m\u001b[0;34m(\u001b[0m\u001b[0mcontent_or_path\u001b[0m\u001b[0;34m)\u001b[0m\u001b[0;34m\u001b[0m\u001b[0;34m\u001b[0m\u001b[0m\n\u001b[1;32m   1069\u001b[0m \u001b[0;34m\u001b[0m\u001b[0m\n\u001b[0;32m-> 1070\u001b[0;31m     with get_handle(\n\u001b[0m\u001b[1;32m   1071\u001b[0m         \u001b[0mcontent_or_path\u001b[0m\u001b[0;34m,\u001b[0m \u001b[0;34m\"rb\"\u001b[0m\u001b[0;34m,\u001b[0m \u001b[0mstorage_options\u001b[0m\u001b[0;34m=\u001b[0m\u001b[0mstorage_options\u001b[0m\u001b[0;34m,\u001b[0m \u001b[0mis_text\u001b[0m\u001b[0;34m=\u001b[0m\u001b[0;32mFalse\u001b[0m\u001b[0;34m\u001b[0m\u001b[0;34m\u001b[0m\u001b[0m\n\u001b[1;32m   1072\u001b[0m     ) as handle:\n",
            "\u001b[0;32m/usr/local/lib/python3.8/dist-packages/pandas/io/common.py\u001b[0m in \u001b[0;36mget_handle\u001b[0;34m(path_or_buf, mode, encoding, compression, memory_map, is_text, errors, storage_options)\u001b[0m\n\u001b[1;32m    709\u001b[0m         \u001b[0;32melse\u001b[0m\u001b[0;34m:\u001b[0m\u001b[0;34m\u001b[0m\u001b[0;34m\u001b[0m\u001b[0m\n\u001b[1;32m    710\u001b[0m             \u001b[0;31m# Binary mode\u001b[0m\u001b[0;34m\u001b[0m\u001b[0;34m\u001b[0m\u001b[0;34m\u001b[0m\u001b[0m\n\u001b[0;32m--> 711\u001b[0;31m             \u001b[0mhandle\u001b[0m \u001b[0;34m=\u001b[0m \u001b[0mopen\u001b[0m\u001b[0;34m(\u001b[0m\u001b[0mhandle\u001b[0m\u001b[0;34m,\u001b[0m \u001b[0mioargs\u001b[0m\u001b[0;34m.\u001b[0m\u001b[0mmode\u001b[0m\u001b[0;34m)\u001b[0m\u001b[0;34m\u001b[0m\u001b[0;34m\u001b[0m\u001b[0m\n\u001b[0m\u001b[1;32m    712\u001b[0m         \u001b[0mhandles\u001b[0m\u001b[0;34m.\u001b[0m\u001b[0mappend\u001b[0m\u001b[0;34m(\u001b[0m\u001b[0mhandle\u001b[0m\u001b[0;34m)\u001b[0m\u001b[0;34m\u001b[0m\u001b[0;34m\u001b[0m\u001b[0m\n\u001b[1;32m    713\u001b[0m \u001b[0;34m\u001b[0m\u001b[0m\n",
            "\u001b[0;31mFileNotFoundError\u001b[0m: [Errno 2] No such file or directory: 'SPL Data.xlsx'"
          ]
        }
      ],
      "source": [
        "df = pd.read_excel('SPL Data.xlsx')\n",
        "# df.head()\n",
        "print(df.shape)"
      ]
    },
    {
      "cell_type": "code",
      "execution_count": 3,
      "id": "ebdb9596",
      "metadata": {
        "id": "ebdb9596"
      },
      "outputs": [],
      "source": [
        "spl_names=[\"Embedded Systems Design (ESD)\",\"Center for VLSI Design (CVD)\",\"NVIDIA-Center of Artificial Intelligence and Machine Learning (AI & ML)\",\"Robotics Center for Enhanced Learning (RCEL)\",\"VLSI Automation (VLSI-A)\",\"Embedded Automation Lab(EAL)\",\"Center of Advanced Communication Lab\"]"
      ]
    },
    {
      "cell_type": "code",
      "source": [
        "print (spl_names)"
      ],
      "metadata": {
        "id": "hoGztwhBk8nP",
        "outputId": "019dc1d7-f8da-491d-bc89-3869e2493d9d",
        "colab": {
          "base_uri": "https://localhost:8080/"
        }
      },
      "id": "hoGztwhBk8nP",
      "execution_count": 4,
      "outputs": [
        {
          "output_type": "stream",
          "name": "stdout",
          "text": [
            "['Embedded Systems Design (ESD)', 'Center for VLSI Design (CVD)', 'NVIDIA-Center of Artificial Intelligence and Machine Learning (AI & ML)', 'Robotics Center for Enhanced Learning (RCEL)', 'VLSI Automation (VLSI-A)', 'Embedded Automation Lab(EAL)', 'Center of Advanced Communication Lab']\n"
          ]
        }
      ]
    },
    {
      "cell_type": "code",
      "execution_count": null,
      "id": "8a89166a",
      "metadata": {
        "id": "8a89166a"
      },
      "outputs": [],
      "source": [
        "spl_MaxSize=[48,48,30,30,50,42,24]"
      ]
    },
    {
      "cell_type": "code",
      "execution_count": null,
      "id": "c82c4614",
      "metadata": {
        "id": "c82c4614"
      },
      "outputs": [],
      "source": [
        "preference_1=[39,39,24,24,39,33,18]\n",
        "preference_23=[9,9,6,6,11,9,6]"
      ]
    },
    {
      "cell_type": "markdown",
      "id": "4d384d86",
      "metadata": {
        "id": "4d384d86"
      },
      "source": [
        "# CVD"
      ]
    },
    {
      "cell_type": "code",
      "execution_count": null,
      "id": "9bcaf54f",
      "metadata": {
        "id": "9bcaf54f",
        "outputId": "c58b60e6-6270-48c6-fece-94b7193dc0e6"
      },
      "outputs": [
        {
          "name": "stdout",
          "output_type": "stream",
          "text": [
            "(55, 13)\n"
          ]
        }
      ],
      "source": [
        "cvd = df[df['Please Choose the First Preference for Special Lab'] == 'Center for VLSI Design (CVD)']\n",
        "cvd_shape = cvd.shape\n",
        "print(cvd_shape)\n",
        "#!!!!!!!!!!!!!!!!!!!!if(cvd_shape<preferrence1)----->accept all"
      ]
    },
    {
      "cell_type": "code",
      "execution_count": null,
      "id": "1fa9f988",
      "metadata": {
        "id": "1fa9f988",
        "outputId": "77d8dc63-a60c-4a9c-90c6-c37a97375e2e"
      },
      "outputs": [
        {
          "name": "stdout",
          "output_type": "stream",
          "text": [
            "(220, 13)\n"
          ]
        }
      ],
      "source": [
        "sorted_cvd = cvd.sort_values('CGPA', ascending=False)\n",
        "cvd_top = 13\n",
        "cvd_middle = 13\n",
        "cvd_bottom = 13\n",
        "cvd_top_data = sorted_cvd[:cvd_top]\n",
        "cvd_bottom_data = sorted_cvd[cvd_shape[0]-cvd_bottom:]\n",
        "\n",
        "if cvd_middle%2 ==0:\n",
        "    cvd_middle_loc = int(cvd_shape[0]/2 - cvd_middle/2)\n",
        "else:\n",
        "    cvd_middle_loc = int(cvd_shape[0]/2 - cvd_middle/2 - 0.5)\n",
        "\n",
        "cvd_middle_data = sorted_cvd[cvd_middle_loc:cvd_middle_loc+cvd_middle]\n",
        "Total_CVD_First = pd.concat([cvd_top_data,cvd_middle_data,cvd_bottom_data])\n",
        "# Total_CVD_First.head()\n",
        "df.drop((cvd_top_data).index, inplace=True)\n",
        "df.drop((cvd_bottom_data).index, inplace=True)\n",
        "df.drop((cvd_middle_data).index, inplace=True)\n",
        "print(df.shape)"
      ]
    },
    {
      "cell_type": "markdown",
      "id": "e92e08ac",
      "metadata": {
        "id": "e92e08ac"
      },
      "source": [
        "# Esd"
      ]
    },
    {
      "cell_type": "code",
      "execution_count": null,
      "id": "33698d40",
      "metadata": {
        "id": "33698d40",
        "outputId": "3764e797-d0bc-4462-aff3-219983762fb9"
      },
      "outputs": [
        {
          "name": "stdout",
          "output_type": "stream",
          "text": [
            "(129, 13)\n"
          ]
        }
      ],
      "source": [
        "esd = df[df['Please Choose the First Preference for Special Lab'] == 'Embedded Systems Design (ESD)']\n",
        "esd_shape = esd.shape\n",
        "sorted_esd = esd.sort_values('CGPA', ascending=False)\n",
        "esd_top = 13\n",
        "esd_middle = 13\n",
        "esd_bottom = 13\n",
        "print(esd_shape)"
      ]
    },
    {
      "cell_type": "code",
      "execution_count": null,
      "id": "246f4699",
      "metadata": {
        "id": "246f4699",
        "outputId": "89d47588-2106-4fd6-b602-1853b890846a"
      },
      "outputs": [
        {
          "name": "stdout",
          "output_type": "stream",
          "text": [
            "(181, 13)\n"
          ]
        }
      ],
      "source": [
        "esd_top_data = sorted_esd[:esd_top]\n",
        "esd_bottom_data = sorted_esd[esd_shape[0]-esd_bottom:]\n",
        "\n",
        "if esd_middle%2 ==0:\n",
        "    esd_middle_loc = int(esd_shape[0]/2 - esd_middle/2)\n",
        "else:\n",
        "    esd_middle_loc = int(esd_shape[0]/2 - esd_middle/2 - 0.5)\n",
        "\n",
        "esd_middle_data = sorted_esd[esd_middle_loc:esd_middle_loc+esd_middle]\n",
        "Total_ESD_First = pd.concat([esd_top_data,esd_middle_data,esd_bottom_data])\n",
        "# Total_CVD_First.head()\n",
        "df.drop((esd_top_data).index, inplace=True)\n",
        "df.drop((esd_bottom_data).index, inplace=True)\n",
        "df.drop((esd_middle_data).index, inplace=True)\n",
        "print(df.shape)"
      ]
    },
    {
      "cell_type": "markdown",
      "id": "cf310531",
      "metadata": {
        "id": "cf310531"
      },
      "source": [
        "# Aiml"
      ]
    },
    {
      "cell_type": "code",
      "execution_count": null,
      "id": "cfcea09f",
      "metadata": {
        "id": "cfcea09f",
        "outputId": "38082967-4d03-47ac-af1e-46172eac375c"
      },
      "outputs": [
        {
          "name": "stdout",
          "output_type": "stream",
          "text": [
            "(54, 13)\n",
            "(157, 13)\n"
          ]
        }
      ],
      "source": [
        "aiml = df[df['Please Choose the First Preference for Special Lab'] == 'Center of Artificial Intelligence and Machine Learning (AI & ML)']\n",
        "aiml_shape = aiml.shape\n",
        "sorted_aiml = aiml.sort_values('CGPA', ascending=False)\n",
        "aiml_top = 8\n",
        "aiml_middle = 8\n",
        "aiml_bottom = 8\n",
        "print(aiml_shape)\n",
        "aiml_top_data = sorted_aiml[:aiml_top]\n",
        "aiml_bottom_data = sorted_aiml[aiml_shape[0]-aiml_bottom:]\n",
        "\n",
        "if aiml_middle%2 ==0:\n",
        "    aiml_middle_loc = int(aiml_shape[0]/2 - aiml_middle/2)\n",
        "else:\n",
        "    aiml_middle_loc = int(aiml_shape[0]/2 - aiml_middle/2 - 0.5)\n",
        "\n",
        "aiml_middle_data = sorted_aiml[aiml_middle_loc:aiml_middle_loc+aiml_middle]\n",
        "Total_AIML_First = pd.concat([aiml_top_data,aiml_middle_data,aiml_bottom_data])\n",
        "# Total_CVD_First.head()\n",
        "df.drop((aiml_top_data).index, inplace=True)\n",
        "df.drop((aiml_bottom_data).index, inplace=True)\n",
        "df.drop((aiml_middle_data).index, inplace=True)\n",
        "print(df.shape)\n"
      ]
    },
    {
      "cell_type": "markdown",
      "id": "5473081e",
      "metadata": {
        "id": "5473081e"
      },
      "source": [
        "# Rcel"
      ]
    },
    {
      "cell_type": "code",
      "execution_count": null,
      "id": "fb75764d",
      "metadata": {
        "id": "fb75764d",
        "outputId": "e61b00ee-cb14-4f32-dbee-2e7da3fbec78"
      },
      "outputs": [
        {
          "name": "stdout",
          "output_type": "stream",
          "text": [
            "(5, 13)\n"
          ]
        }
      ],
      "source": [
        "rcel = df[df['Please Choose the First Preference for Special Lab'] == \"Robotics Center for Enhanced Learning (RCEL)\"]\n",
        "rcel_shape = rcel.shape\n",
        "sorted_rcel = rcel.sort_values('CGPA', ascending=False)\n",
        "rcel_top = 8\n",
        "rcel_middle = 8\n",
        "rcel_bottom = 8\n",
        "print(rcel_shape)\n"
      ]
    },
    {
      "cell_type": "code",
      "execution_count": null,
      "id": "0e86c693",
      "metadata": {
        "id": "0e86c693"
      },
      "outputs": [],
      "source": [
        "# rcel_top_data = sorted_rcel[:rcel_top]\n",
        "# rcel_bottom_data = sorted_rcel[rcel_shape[0]-rcel_bottom:]\n",
        "\n",
        "# if rcel_middle%2 ==0:\n",
        "#     rcel_middle_loc = int(rcel_shape[0]/2 - rcel_middle/2)\n",
        "# else:\n",
        "#     rcel_middle_loc = int(rcel_shape[0]/2 - rcel_middle/2 - 0.5)\n",
        "\n",
        "# rcel_middle_data = sorted_rcel[rcel_middle_loc:rcel_middle_loc+rcel_middle]\n",
        "# Total_RCEL_First = pd.concat([rcel_top_data,rcel_middle_data,rcel_bottom_data])\n",
        "# df.drop((rcel_top_data).index, inplace=True)\n",
        "# df.drop((rcel_bottom_data).index, inplace=True)\n",
        "# df.drop((rcel_middle_data).index, inplace=True)\n",
        "# print(df.shape)\n"
      ]
    },
    {
      "cell_type": "code",
      "execution_count": null,
      "id": "8087838c",
      "metadata": {
        "id": "8087838c",
        "outputId": "507e2a52-29da-4c84-ee6c-937d4333915a"
      },
      "outputs": [
        {
          "name": "stdout",
          "output_type": "stream",
          "text": [
            "(152, 13)\n"
          ]
        }
      ],
      "source": [
        "Total_RCEL_First=rcel\n",
        "df.drop((rcel).index,inplace=True)\n",
        "print(df.shape)"
      ]
    },
    {
      "cell_type": "markdown",
      "id": "8614ae6c",
      "metadata": {
        "id": "8614ae6c"
      },
      "source": [
        "# Vlsia"
      ]
    },
    {
      "cell_type": "code",
      "execution_count": null,
      "id": "e3c89445",
      "metadata": {
        "id": "e3c89445",
        "outputId": "e7e36470-9b1e-414c-e925-ad5dbbf4dc12"
      },
      "outputs": [
        {
          "name": "stdout",
          "output_type": "stream",
          "text": [
            "(10, 13)\n"
          ]
        }
      ],
      "source": [
        "vlsia = df[df['Please Choose the First Preference for Special Lab'] == \"VLSI Automation (VLSI-A)\"]\n",
        "vlsia_shape = vlsia.shape\n",
        "sorted_vlsia = vlsia.sort_values('CGPA', ascending=False)\n",
        "vlsia_top = 13\n",
        "vlsia_middle = 13\n",
        "vlsia_bottom = 13\n",
        "print(vlsia_shape)"
      ]
    },
    {
      "cell_type": "code",
      "execution_count": null,
      "id": "33776202",
      "metadata": {
        "id": "33776202"
      },
      "outputs": [],
      "source": [
        "# vlsia_top_data = sorted_vlsia[:vlsia_top]\n",
        "# vlsia_bottom_data = sorted_vlsia[vlsia_shape[0]-vlsia_bottom:]\n",
        "\n",
        "# if vlsia_middle%2 ==0:\n",
        "#     vlsia_middle_loc = int(vlsia_shape[0]/2 - vlsia_middle/2)\n",
        "# else:\n",
        "#     vlsia_middle_loc = int(vlsia_shape[0]/2 - vlsia_middle/2 - 0.5)\n",
        "\n",
        "# vlsia_middle_data = sorted_vlsia[vlsia_middle_loc:vlsia_middle_loc+vlsia_middle]\n",
        "# Total_VLSIA_First = pd.concat([vlsia_top_data,vlsia_middle_data,vlsia_bottom_data])\n",
        "# df.drop((vlsia_top_data).index, inplace=True)\n",
        "# df.drop((vlsia_bottom_data).index, inplace=True)\n",
        "# df.drop((vlsia_middle_data).index, inplace=True)\n",
        "# print(df.shape)"
      ]
    },
    {
      "cell_type": "code",
      "execution_count": null,
      "id": "be1a9953",
      "metadata": {
        "id": "be1a9953",
        "outputId": "9071a89d-ea79-4f4e-9154-da435a770665"
      },
      "outputs": [
        {
          "name": "stdout",
          "output_type": "stream",
          "text": [
            "(142, 13)\n"
          ]
        }
      ],
      "source": [
        "Total_VLSIA_First=vlsia\n",
        "df.drop((vlsia).index,inplace=True)\n",
        "print(df.shape)"
      ]
    },
    {
      "cell_type": "markdown",
      "id": "0fece589",
      "metadata": {
        "id": "0fece589"
      },
      "source": [
        "# Eal"
      ]
    },
    {
      "cell_type": "code",
      "execution_count": null,
      "id": "490d576a",
      "metadata": {
        "id": "490d576a",
        "outputId": "58f82336-ed03-45d8-a9f4-f32eb819c2f7"
      },
      "outputs": [
        {
          "name": "stdout",
          "output_type": "stream",
          "text": [
            "(4, 13)\n"
          ]
        }
      ],
      "source": [
        "eal = df[df['Please Choose the First Preference for Special Lab'] == \"Embedded Automation Lab\"]\n",
        "eal_shape = eal.shape\n",
        "sorted_eal = eal.sort_values('CGPA', ascending=False)\n",
        "eal_top = 11\n",
        "eal_middle = 11\n",
        "eal_bottom = 11\n",
        "print(eal_shape)\n"
      ]
    },
    {
      "cell_type": "code",
      "execution_count": null,
      "id": "98cc71fc",
      "metadata": {
        "id": "98cc71fc"
      },
      "outputs": [],
      "source": [
        "# eal_top_data = sorted_eal[:eal_top]\n",
        "# eal_bottom_data = sorted_eal[eal_shape[0]-eal_bottom:]\n",
        "\n",
        "# if eal_middle%2 ==0:\n",
        "#     eal_middle_loc = int(eal_shape[0]/2 - eal_middle/2)\n",
        "# else:\n",
        "#     eal_middle_loc = int(eal_shape[0]/2 - eal_middle/2 - 0.5)\n",
        "\n",
        "# eal_middle_data = sorted_eal[eal_middle_loc:eal_middle_loc+eal_middle]\n",
        "# Total_EAL_First = pd.concat([eal_top_data,eal_middle_data,eal_bottom_data])\n",
        "# df.drop((eal_top_data).index, inplace=True)\n",
        "# df.drop((eal_bottom_data).index, inplace=True)\n",
        "# df.drop((eal_middle_data).index, inplace=True)\n",
        "# print(df.shape)\n"
      ]
    },
    {
      "cell_type": "code",
      "execution_count": null,
      "id": "5286f248",
      "metadata": {
        "id": "5286f248",
        "outputId": "322b5a3b-9c62-4a92-a2a5-00436c860350"
      },
      "outputs": [
        {
          "name": "stdout",
          "output_type": "stream",
          "text": [
            "(138, 13)\n"
          ]
        }
      ],
      "source": [
        "Total_EAL_First=eal\n",
        "df.drop((eal).index,inplace=True)\n",
        "print(df.shape)"
      ]
    },
    {
      "cell_type": "markdown",
      "id": "4f9d36b1",
      "metadata": {
        "id": "4f9d36b1"
      },
      "source": [
        "# Ac"
      ]
    },
    {
      "cell_type": "code",
      "execution_count": null,
      "id": "1969af0e",
      "metadata": {
        "id": "1969af0e",
        "outputId": "368a40fb-508e-4120-d053-4be8a6d6f223"
      },
      "outputs": [
        {
          "name": "stdout",
          "output_type": "stream",
          "text": [
            "(0, 13)\n"
          ]
        }
      ],
      "source": [
        "\n",
        "ac = df[df['Please Choose the First Preference for Special Lab'] == \"Advanced Communication Lab (RF Communication and Vishnu Space Engineering)\"]\n",
        "ac_shape = ac.shape\n",
        "sorted_ac = ac.sort_values('CGPA', ascending=False)\n",
        "ac_top = 6\n",
        "ac_middle = 6\n",
        "ac_bottom = 6\n",
        "print(ac_shape)\n",
        "\n"
      ]
    },
    {
      "cell_type": "code",
      "execution_count": null,
      "id": "d71e5033",
      "metadata": {
        "id": "d71e5033"
      },
      "outputs": [],
      "source": [
        "# ac_top_data = sorted_ac[:ac_top]\n",
        "# ac_bottom_data = sorted_ac[ac_shape[0]-ac_bottom:]\n",
        "\n",
        "# if ac_middle%2 ==0:\n",
        "#     ac_middle_loc = int(ac_shape[0]/2 - ac_middle/2)\n",
        "# else:\n",
        "#     ac_middle_loc = int(ac_shape[0]/2 - ac_middle/2 - 0.5)\n",
        "\n",
        "# ac_middle_data = sorted_ac[ac_middle_loc:ac_middle_loc+ac_middle]\n",
        "# Total_AC_First = pd.concat([ac_top_data,ac_middle_data,ac_bottom_data])\n",
        "# df.drop((ac_top_data).index, inplace=True)\n",
        "# df.drop((ac_bottom_data).index, inplace=True)\n",
        "# df.drop((ac_middle_data).index, inplace=True)\n",
        "# print(df.shape)"
      ]
    },
    {
      "cell_type": "code",
      "execution_count": null,
      "id": "2f42edec",
      "metadata": {
        "id": "2f42edec",
        "outputId": "9d339a3d-5b65-4198-d5a0-03a178c260de"
      },
      "outputs": [
        {
          "name": "stdout",
          "output_type": "stream",
          "text": [
            "(138, 13)\n"
          ]
        }
      ],
      "source": [
        "Total_AC_First=ac\n",
        "df.drop((ac).index,inplace=True)\n",
        "print(df.shape)"
      ]
    },
    {
      "cell_type": "code",
      "execution_count": null,
      "id": "8b69a707",
      "metadata": {
        "id": "8b69a707"
      },
      "outputs": [],
      "source": []
    }
  ],
  "metadata": {
    "kernelspec": {
      "display_name": "Python 3 (ipykernel)",
      "language": "python",
      "name": "python3"
    },
    "language_info": {
      "codemirror_mode": {
        "name": "ipython",
        "version": 3
      },
      "file_extension": ".py",
      "mimetype": "text/x-python",
      "name": "python",
      "nbconvert_exporter": "python",
      "pygments_lexer": "ipython3",
      "version": "3.9.7"
    },
    "colab": {
      "provenance": [],
      "include_colab_link": true
    }
  },
  "nbformat": 4,
  "nbformat_minor": 5
}